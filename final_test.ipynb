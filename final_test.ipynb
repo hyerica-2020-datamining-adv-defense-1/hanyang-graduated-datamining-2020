{
 "cells": [
  {
   "cell_type": "code",
   "execution_count": 16,
   "metadata": {},
   "outputs": [],
   "source": [
    "GPUS = [2]\n",
    "PATH = \"final_data/data\"\n",
    "\n",
    "HEIGHT = 160\n",
    "WIDTH = 160\n",
    "BATCH_SIZE = 16\n",
    "\n",
    "import os\n",
    "os.environ[\"CUDA_VISIBLE_DEVICES\"] = \",\".join(map(str, GPUS))"
   ]
  },
  {
   "cell_type": "code",
   "execution_count": 17,
   "metadata": {},
   "outputs": [],
   "source": [
    "import cv2\n",
    "import pathlib\n",
    "import numpy as np\n",
    "import matplotlib.pyplot as plt\n",
    "import tensorflow as tf\n",
    "from tensorflow.keras import metrics\n",
    "from adversarial.utils import dataloader\n",
    "from adversarial import models"
   ]
  },
  {
   "cell_type": "code",
   "execution_count": 18,
   "metadata": {},
   "outputs": [],
   "source": [
    "target_model = models.TargetModelV3()\n",
    "target_model(tf.random.normal((10, 160, 160, 3)), tf.random.normal((10,)), True)\n",
    "target_model.load_custom_weights(\"model/ensemble_distinction-2020-06-05_14-28-15.pkl\")"
   ]
  },
  {
   "cell_type": "code",
   "execution_count": 19,
   "metadata": {},
   "outputs": [],
   "source": [
    "original_model = models.MobileNetV2()\n",
    "original_model(tf.random.normal((10, 160, 160, 3)))\n",
    "original_model.load_custom_weights(\"data/model_20200507_9_1.00_0.0088\")"
   ]
  },
  {
   "cell_type": "code",
   "execution_count": 20,
   "metadata": {},
   "outputs": [],
   "source": [
    "acc = metrics.SparseCategoricalAccuracy()\n",
    "test_dloader = dataloader.DataLoader(\"data\", BATCH_SIZE, training=False)"
   ]
  },
  {
   "cell_type": "code",
   "execution_count": 21,
   "metadata": {},
   "outputs": [],
   "source": [
    "# plt.imread(\"final_data/affend_1/1_327_0png.png\")[..., -1]"
   ]
  },
  {
   "cell_type": "code",
   "execution_count": 22,
   "metadata": {},
   "outputs": [],
   "source": [
    "def test_data_load():\n",
    "    data_list = []\n",
    "    \n",
    "    for f in pathlib.Path(PATH).glob(\"*.png\"):\n",
    "        image = plt.imread(str(f), format=\"png\")\n",
    "        \n",
    "        if \"_\" in f.name:\n",
    "            index = int(f.name.split(\"_\")[1])\n",
    "            label = int(f.name.split(\"_\")[2][0])\n",
    "        elif \"-\" in f.name:\n",
    "            index = int(f.name.split(\"-\")[1])\n",
    "            label = int(f.name.split(\"-\")[2][0])\n",
    "        \n",
    "        if image.shape[-1] == 4:\n",
    "            image = image[..., :3]\n",
    "            \n",
    "        if image.shape[0] != 160 or image.shape[1] != 160:\n",
    "            image = cv2.resize(image, dsize=(WIDTH, HEIGHT))\n",
    "        \n",
    "        data_list.append((image, label, index))\n",
    "        \n",
    "    return data_list"
   ]
  },
  {
   "cell_type": "code",
   "execution_count": 23,
   "metadata": {},
   "outputs": [
    {
     "data": {
      "text/plain": [
       "100"
      ]
     },
     "execution_count": 23,
     "metadata": {},
     "output_type": "execute_result"
    }
   ],
   "source": [
    "data_list = test_data_load()\n",
    "len(data_list)"
   ]
  },
  {
   "cell_type": "code",
   "execution_count": 24,
   "metadata": {},
   "outputs": [
    {
     "name": "stdout",
     "output_type": "stream",
     "text": [
      "tf.Tensor([100 160 160   3], shape=(4,), dtype=int32)\n",
      "tf.Tensor([100], shape=(1,), dtype=int32)\n"
     ]
    }
   ],
   "source": [
    "x_test = tf.stack(list(map(lambda tup: tup[0], data_list)), axis=0)\n",
    "y_test = tf.stack(list(map(lambda tup: tup[1], data_list)), axis=0)\n",
    "\n",
    "print(tf.shape(x_test))\n",
    "print(tf.shape(y_test))"
   ]
  },
  {
   "cell_type": "code",
   "execution_count": 25,
   "metadata": {},
   "outputs": [],
   "source": [
    "def test_clean():\n",
    "    clean_images = []\n",
    "    \n",
    "    for x, y, i in data_list:\n",
    "        clean_images.append(test_dloader[i][0])\n",
    "        \n",
    "    clean_images = tf.stack(clean_images, axis=0)\n",
    "    \n",
    "    pred = original_model(clean_images, training=False)\n",
    "    acc(y_test, pred)\n",
    "    \n",
    "    test_acc = acc.result()\n",
    "    acc.reset_states()\n",
    "    \n",
    "    return test_acc"
   ]
  },
  {
   "cell_type": "code",
   "execution_count": 26,
   "metadata": {},
   "outputs": [],
   "source": [
    "def test_adv_with_original_model():\n",
    "    \n",
    "    pred = original_model(x_test, training=False)\n",
    "    acc(y_test, pred)\n",
    "    \n",
    "    test_acc = acc.result()\n",
    "    acc.reset_states()\n",
    "    \n",
    "    return test_acc"
   ]
  },
  {
   "cell_type": "code",
   "execution_count": 27,
   "metadata": {},
   "outputs": [],
   "source": [
    "def test_adv_with_target_model():\n",
    "    \n",
    "    pred = target_model(x_test, labels=None, training=False)\n",
    "    acc(y_test, pred)\n",
    "    \n",
    "    test_acc = acc.result()\n",
    "    acc.reset_states()\n",
    "    \n",
    "    return test_acc"
   ]
  },
  {
   "cell_type": "code",
   "execution_count": 28,
   "metadata": {},
   "outputs": [
    {
     "name": "stdout",
     "output_type": "stream",
     "text": [
      "tf.Tensor(0.94, shape=(), dtype=float32)\n"
     ]
    }
   ],
   "source": [
    "test_acc = test_clean()\n",
    "print(test_acc)"
   ]
  },
  {
   "cell_type": "code",
   "execution_count": 29,
   "metadata": {},
   "outputs": [
    {
     "name": "stdout",
     "output_type": "stream",
     "text": [
      "tf.Tensor(0.85, shape=(), dtype=float32)\n"
     ]
    }
   ],
   "source": [
    "test_acc = test_adv_with_original_model()\n",
    "print(test_acc)"
   ]
  },
  {
   "cell_type": "code",
   "execution_count": 30,
   "metadata": {},
   "outputs": [
    {
     "name": "stdout",
     "output_type": "stream",
     "text": [
      "tf.Tensor(0.93, shape=(), dtype=float32)\n"
     ]
    }
   ],
   "source": [
    "test_acc = test_adv_with_target_model()\n",
    "print(test_acc)"
   ]
  },
  {
   "cell_type": "code",
   "execution_count": null,
   "metadata": {},
   "outputs": [],
   "source": []
  }
 ],
 "metadata": {
  "kernelspec": {
   "display_name": "Python3 (Tensorflow 2)",
   "language": "python",
   "name": "tf2"
  },
  "language_info": {
   "codemirror_mode": {
    "name": "ipython",
    "version": 3
   },
   "file_extension": ".py",
   "mimetype": "text/x-python",
   "name": "python",
   "nbconvert_exporter": "python",
   "pygments_lexer": "ipython3",
   "version": "3.7.6"
  }
 },
 "nbformat": 4,
 "nbformat_minor": 4
}
