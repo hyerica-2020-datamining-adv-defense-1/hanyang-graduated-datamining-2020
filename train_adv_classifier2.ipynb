{
 "cells": [
  {
   "cell_type": "code",
   "execution_count": 2,
   "metadata": {},
   "outputs": [],
   "source": [
    "from adversarial.defences.adv_classifier import *\n",
    "import tensorflow as tf\n",
    "from tensorflow.keras import layers, models, optimizers, losses\n",
    "from tqdm import tqdm"
   ]
  },
  {
   "cell_type": "code",
   "execution_count": 3,
   "metadata": {},
   "outputs": [
    {
     "data": {
      "text/plain": [
       "[PhysicalDevice(name='/physical_device:GPU:0', device_type='GPU'),\n",
       " PhysicalDevice(name='/physical_device:GPU:1', device_type='GPU')]"
      ]
     },
     "execution_count": 3,
     "metadata": {},
     "output_type": "execute_result"
    }
   ],
   "source": [
    "tf.config.list_physical_devices('GPU') "
   ]
  },
  {
   "cell_type": "code",
   "execution_count": 4,
   "metadata": {},
   "outputs": [],
   "source": [
    "import numpy as np"
   ]
  },
  {
   "cell_type": "code",
   "execution_count": 5,
   "metadata": {},
   "outputs": [],
   "source": [
    "# dataloader\n",
    "from adversarial.utils import dataloader\n",
    "from adversarial.attacks import random_attack"
   ]
  },
  {
   "cell_type": "code",
   "execution_count": 6,
   "metadata": {},
   "outputs": [],
   "source": [
    "BATCH_SIZE = 16\n",
    "EPSILONS = np.arange(0.01, 0.5, step=0.02)\n",
    "ETA = 1e-5\n",
    "EPOCHS = 6"
   ]
  },
  {
   "cell_type": "code",
   "execution_count": 7,
   "metadata": {},
   "outputs": [],
   "source": [
    "train_data_loader = dataloader.DataLoader('./data', 16, training=True)\n",
    "test_data_loader = dataloader.DataLoader('./data', 16, training= False)"
   ]
  },
  {
   "cell_type": "code",
   "execution_count": 8,
   "metadata": {},
   "outputs": [],
   "source": [
    "from adversarial.defences import EnsembleModel\n",
    "from adversarial.models import *"
   ]
  },
  {
   "cell_type": "markdown",
   "metadata": {},
   "source": [
    "random_attack(앙상블 모델 넣을건데, x_image, adversarial_label, epsilon은 배열로)  \n",
    "epsilon = np.arange(0.01,0.5,0.02)  \n",
    "random_attack은 adversarial image를 리턴해준다. "
   ]
  },
  {
   "cell_type": "code",
   "execution_count": 9,
   "metadata": {},
   "outputs": [],
   "source": [
    "target_model= AdvClassifier()"
   ]
  },
  {
   "cell_type": "code",
   "execution_count": 10,
   "metadata": {},
   "outputs": [],
   "source": [
    "# train\n",
    "\n",
    "criterion = losses.CategoricalCrossentropy()\n",
    "optimizer = tf.keras.optimizers.Adam(learning_rate = ETA)\n",
    "\n",
    "train_losses = tf.keras.metrics.CategoricalCrossentropy()\n",
    "train_metrics = tf.keras.metrics.CategoricalAccuracy()\n",
    "\n",
    "test_losses = tf.keras.metrics.CategoricalCrossentropy()\n",
    "test_metrics = tf.keras.metrics.CategoricalAccuracy()"
   ]
  },
  {
   "cell_type": "code",
   "execution_count": 11,
   "metadata": {},
   "outputs": [],
   "source": [
    "ensemble_model = EnsembleModel([\n",
    "    VGG19, VGG16, MobileNet, MobileNetV2, ResNet50, ResNet50V2\n",
    "], devices = [0])"
   ]
  },
  {
   "cell_type": "code",
   "execution_count": 12,
   "metadata": {},
   "outputs": [],
   "source": [
    "labels = [[0,1] ,[1,0]]\n",
    "    \n",
    "y_batch = []\n",
    "    \n",
    "    \n",
    "for label in labels : \n",
    "    for time in range(16) :\n",
    "        y_batch.append(label)\n",
    "\n",
    "y_tensor = tf.convert_to_tensor(y_batch)"
   ]
  },
  {
   "cell_type": "code",
   "execution_count": 22,
   "metadata": {},
   "outputs": [],
   "source": [
    "def train_step(images, adv_labels):\n",
    "\n",
    "    adv, _, success = random_attack(ensemble_model, images, adv_labels, EPSILONS)\n",
    "    \n",
    "    x_batch = tf.concat([images, adv], axis=0)\n",
    "    y_batch = y_tensor\n",
    "    with tf.GradientTape() as tape:\n",
    "        outputs = target_model(x_batch, training = True)\n",
    "      #  print('y_batch : ' ,y_batch)\n",
    "       # print('outputs : ' ,outputs)\n",
    "        loss = criterion(y_batch, outputs)\n",
    "    train_losses.update_state(y_batch, outputs)\n",
    "    train_metrics.update_state(y_batch, outputs)\n",
    "        \n",
    "    grads = tape.gradient(loss, target_model.trainable_variables)\n",
    "    optimizer.apply_gradients(zip(grads, target_model.trainable_variables))"
   ]
  },
  {
   "cell_type": "code",
   "execution_count": 14,
   "metadata": {},
   "outputs": [],
   "source": [
    "def test_step(images, labels, adv_labels) :\n",
    "    adv,_, success = random_attack(ensemble_model, images, adv_labels, EPSILONS)\n",
    "    x_batch = tf.concat([images, adv], axis=0)\n",
    "    y_batch = y_tensor\n",
    "    #y_batch = tf.concat([tf.zeros(16, dtype = tf.int32),\n",
    "     #                    tf.ones(16, dtype = tf.int32)], \n",
    "      #                   axis = 0)\n",
    "    \n",
    "    predictions = target_model(x_batch, training= False)\n",
    "    loss = tf.keras.losses.binary_crossentropy(y_batch, predictions)\n",
    "    test_losses.update_state(y_batch, predictions)\n",
    "    test_metrics.update_state(y_batch, predictions)"
   ]
  },
  {
   "cell_type": "code",
   "execution_count": 18,
   "metadata": {},
   "outputs": [],
   "source": [
    "def train():\n",
    "\n",
    "    train_loss_list = []\n",
    "    test_loss_list = []\n",
    "\n",
    "    for e in range(EPOCHS):\n",
    "        for x_batch, y_batch, adv_batch in tqdm(iter(train_data_loader)):\n",
    "            train_step(x_batch, adv_batch)\n",
    "\n",
    "        for x_batch, y_batch, adv_batch in tqdm(iter(test_data_loader)):\n",
    "            test_step(x_batch, y_batch, adv_batch)\n",
    "\n",
    "\n",
    "        train_loss = train_losses.result()\n",
    "        train_acc = train_metrics.result()\n",
    "\n",
    "        test_loss = test_losses.result()\n",
    "        test_acc = test_metrics.result()\n",
    "\n",
    "        train_loss_list.append(train_loss)\n",
    "        test_loss_list.append(test_loss)\n",
    "\n",
    "        train_losses.reset_states()\n",
    "        train_metrics.reset_states()\n",
    "        test_losses.reset_states()\n",
    "        test_metrics.reset_states()\n",
    "        \n",
    "        print(f\"Epochs {e+1}/{EPOCHS}, train loss: {train_loss:.8f}, train acc: {train_acc:.4f}, test loss: {test_loss:.8f}, test acc: {test_acc:.4f}\")"
   ]
  },
  {
   "cell_type": "code",
   "execution_count": null,
   "metadata": {},
   "outputs": [],
   "source": [
    "def load_custom_weights(target, path):\n",
    "    with open(path, \"rb\") as f:\n",
    "        data = pickle.load(f)\n",
    "        target.set_weights(data)\n",
    "\n",
    "def save_custom_weights(target, path):\n",
    "    with open(path, \"wb\") as f:\n",
    "        pickle.dump(target.get_weights(), f)"
   ]
  },
  {
   "cell_type": "code",
   "execution_count": null,
   "metadata": {},
   "outputs": [],
   "source": [
    "target_model.summary()"
   ]
  },
  {
   "cell_type": "code",
   "execution_count": null,
   "metadata": {},
   "outputs": [
    {
     "name": "stderr",
     "output_type": "stream",
     "text": [
      "806it [33:55,  2.53s/it]\n",
      "32it [00:39,  1.22s/it]\n",
      "0it [00:00, ?it/s]"
     ]
    },
    {
     "name": "stdout",
     "output_type": "stream",
     "text": [
      "Epochs 1/6, train loss: 2.03927422, train acc: 0.6486, test loss: 1.93918061, test acc: 0.6123\n"
     ]
    },
    {
     "name": "stderr",
     "output_type": "stream",
     "text": [
      "806it [32:17,  2.40s/it]\n",
      "32it [01:20,  2.52s/it]\n",
      "0it [00:00, ?it/s]"
     ]
    },
    {
     "name": "stdout",
     "output_type": "stream",
     "text": [
      "Epochs 2/6, train loss: 1.98466408, train acc: 0.6549, test loss: 2.05114889, test acc: 0.6934\n"
     ]
    },
    {
     "name": "stderr",
     "output_type": "stream",
     "text": [
      "98it [05:04,  2.45s/it]"
     ]
    }
   ],
   "source": [
    "train()"
   ]
  },
  {
   "cell_type": "code",
   "execution_count": null,
   "metadata": {},
   "outputs": [],
   "source": [
    "save_custom_weights(target_model, './adv_classifier_6.3.pkl')"
   ]
  },
  {
   "cell_type": "code",
   "execution_count": null,
   "metadata": {},
   "outputs": [],
   "source": []
  }
 ],
 "metadata": {
  "kernelspec": {
   "display_name": "Python 3",
   "language": "python",
   "name": "python3"
  },
  "language_info": {
   "codemirror_mode": {
    "name": "ipython",
    "version": 3
   },
   "file_extension": ".py",
   "mimetype": "text/x-python",
   "name": "python",
   "nbconvert_exporter": "python",
   "pygments_lexer": "ipython3",
   "version": "3.8.3"
  }
 },
 "nbformat": 4,
 "nbformat_minor": 4
}
