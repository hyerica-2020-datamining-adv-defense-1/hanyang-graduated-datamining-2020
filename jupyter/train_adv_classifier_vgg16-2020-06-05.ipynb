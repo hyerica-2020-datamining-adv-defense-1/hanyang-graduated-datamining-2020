{
 "cells": [
  {
   "cell_type": "code",
   "execution_count": 1,
   "metadata": {},
   "outputs": [],
   "source": [
    "import os\n",
    "os.environ['CUDA_VISIBLE_DEVICES'] = '1'"
   ]
  },
  {
   "cell_type": "code",
   "execution_count": 18,
   "metadata": {},
   "outputs": [],
   "source": [
    "from adversarial.defences.adv_classifier import *\n",
    "import tensorflow as tf\n",
    "from tensorflow.keras import layers, models, optimizers, losses\n",
    "from tqdm import tqdm"
   ]
  },
  {
   "cell_type": "code",
   "execution_count": 19,
   "metadata": {},
   "outputs": [],
   "source": [
    "import time"
   ]
  },
  {
   "cell_type": "code",
   "execution_count": 4,
   "metadata": {},
   "outputs": [
    {
     "data": {
      "text/plain": [
       "[PhysicalDevice(name='/physical_device:GPU:0', device_type='GPU')]"
      ]
     },
     "execution_count": 4,
     "metadata": {},
     "output_type": "execute_result"
    }
   ],
   "source": [
    "tf.config.list_physical_devices('GPU') "
   ]
  },
  {
   "cell_type": "code",
   "execution_count": 5,
   "metadata": {},
   "outputs": [],
   "source": [
    "import numpy as np"
   ]
  },
  {
   "cell_type": "code",
   "execution_count": 6,
   "metadata": {},
   "outputs": [],
   "source": [
    "# dataloader\n",
    "from adversarial.utils import dataloader\n",
    "from adversarial.attacks import random_attack"
   ]
  },
  {
   "cell_type": "code",
   "execution_count": 7,
   "metadata": {},
   "outputs": [],
   "source": [
    "BATCH_SIZE = 32\n",
    "EPSILONS = np.arange(0.01, 0.5, step=0.02)\n",
    "ETA = 1e-4\n",
    "EPOCHS = 10"
   ]
  },
  {
   "cell_type": "code",
   "execution_count": 8,
   "metadata": {},
   "outputs": [],
   "source": [
    "train_data_loader = dataloader.DataLoader('./data', BATCH_SIZE, training=True)\n",
    "test_data_loader = dataloader.DataLoader('./data', BATCH_SIZE, training= False)"
   ]
  },
  {
   "cell_type": "code",
   "execution_count": 9,
   "metadata": {},
   "outputs": [],
   "source": [
    "from adversarial.defences import EnsembleModel\n",
    "from adversarial.models import *"
   ]
  },
  {
   "cell_type": "markdown",
   "metadata": {},
   "source": [
    "random_attack(앙상블 모델 넣을건데, x_image, adversarial_label, epsilon은 배열로)  \n",
    "epsilon = np.arange(0.01,0.5,0.02)  \n",
    "random_attack은 adversarial image를 리턴해준다. "
   ]
  },
  {
   "cell_type": "code",
   "execution_count": 10,
   "metadata": {},
   "outputs": [],
   "source": [
    "target_model= AdvClassifierMk2()"
   ]
  },
  {
   "cell_type": "code",
   "execution_count": 11,
   "metadata": {},
   "outputs": [],
   "source": [
    "# train\n",
    "\n",
    "criterion = losses.CategoricalCrossentropy()\n",
    "optimizer = tf.keras.optimizers.Adam(learning_rate = ETA)\n",
    "\n",
    "train_losses = tf.keras.metrics.CategoricalCrossentropy()\n",
    "train_metrics = tf.keras.metrics.CategoricalAccuracy()\n",
    "\n",
    "test_losses = tf.keras.metrics.CategoricalCrossentropy()\n",
    "test_metrics = tf.keras.metrics.CategoricalAccuracy()"
   ]
  },
  {
   "cell_type": "code",
   "execution_count": 12,
   "metadata": {},
   "outputs": [],
   "source": [
    "ensemble_model = EnsembleModel([\n",
    "    VGG19, VGG16, MobileNet, MobileNetV2, ResNet50, ResNet50V2\n",
    "])"
   ]
  },
  {
   "cell_type": "code",
   "execution_count": 13,
   "metadata": {},
   "outputs": [],
   "source": [
    "labels = [[0,1] ,[1,0]]\n",
    "    \n",
    "y_batch = []\n",
    "    \n",
    "    \n",
    "for label in labels : \n",
    "    for time in range(BATCH_SIZE) :\n",
    "        y_batch.append(label)\n",
    "\n",
    "y_tensor = tf.convert_to_tensor(y_batch)"
   ]
  },
  {
   "cell_type": "code",
   "execution_count": 14,
   "metadata": {},
   "outputs": [],
   "source": [
    "def train_step(images, adv_labels):\n",
    "\n",
    "    adv, _, success = random_attack(ensemble_model, images, adv_labels, EPSILONS)\n",
    "    \n",
    "    x_batch = tf.concat([images, adv], axis=0)\n",
    "    y_batch = y_tensor\n",
    "    with tf.GradientTape() as tape:\n",
    "        outputs = target_model(x_batch, training = True)\n",
    "      #  print('y_batch : ' ,y_batch)\n",
    "       # print('outputs : ' ,outputs)\n",
    "        loss = criterion(y_batch, outputs)\n",
    "    print('batch loss : {0}'.format(loss.numpy()), end = '\\r')\n",
    "    train_losses.update_state(y_batch, outputs)\n",
    "    train_metrics.update_state(y_batch, outputs)\n",
    "        \n",
    "    grads = tape.gradient(loss, target_model.trainable_variables)\n",
    "    optimizer.apply_gradients(zip(grads, target_model.trainable_variables))"
   ]
  },
  {
   "cell_type": "code",
   "execution_count": 15,
   "metadata": {},
   "outputs": [],
   "source": [
    "def test_step(images, labels, adv_labels) :\n",
    "    adv,_, success = random_attack(ensemble_model, images, adv_labels, EPSILONS)\n",
    "    x_batch = tf.concat([images, adv], axis=0)\n",
    "    y_batch = y_tensor\n",
    "    #y_batch = tf.concat([tf.zeros(16, dtype = tf.int32),\n",
    "     #                    tf.ones(16, dtype = tf.int32)], \n",
    "      #                   axis = 0)\n",
    "    \n",
    "    predictions = target_model(x_batch, training= False)\n",
    "    loss = tf.keras.losses.binary_crossentropy(y_batch, predictions)\n",
    "    test_losses.update_state(y_batch, predictions)\n",
    "    test_metrics.update_state(y_batch, predictions)"
   ]
  },
  {
   "cell_type": "code",
   "execution_count": 23,
   "metadata": {},
   "outputs": [],
   "source": [
    "def train():\n",
    "\n",
    "    train_loss_list = []\n",
    "    test_loss_list = []\n",
    "\n",
    "    for e in range(EPOCHS):\n",
    "        start = time.time()\n",
    "        for x_batch, y_batch, adv_batch in iter(train_data_loader):\n",
    "            train_step(x_batch, adv_batch)\n",
    "\n",
    "        for x_batch, y_batch, adv_batch in iter(test_data_loader):\n",
    "            test_step(x_batch, y_batch, adv_batch)\n",
    "\n",
    "\n",
    "        train_loss = train_losses.result()\n",
    "        train_acc = train_metrics.result()\n",
    "\n",
    "        test_loss = test_losses.result()\n",
    "        test_acc = test_metrics.result()\n",
    "\n",
    "        train_loss_list.append(train_loss)\n",
    "        test_loss_list.append(test_loss)\n",
    "\n",
    "        train_losses.reset_states()\n",
    "        train_metrics.reset_states()\n",
    "        test_losses.reset_states()\n",
    "        test_metrics.reset_states()\n",
    "        end = time.time()\n",
    "        print(f\"Epochs {e+1}/{EPOCHS}, train loss: {train_loss:.8f}, train acc: {train_acc:.4f}, test loss: {test_loss:.8f}, test acc: {test_acc:.4f}, time_cost: {end-start}s\")"
   ]
  },
  {
   "cell_type": "code",
   "execution_count": 24,
   "metadata": {},
   "outputs": [
    {
     "name": "stdout",
     "output_type": "stream",
     "text": [
      "Epochs 1/10, train loss: 0.63947999, train acc: 0.5890, test loss: 0.49207914, test acc: 0.7383, time_cost: 3100.7824914455414s\n",
      "Epochs 2/10, train loss: 0.61510414, train acc: 0.6086, test loss: 0.62301821, test acc: 0.5957, time_cost: 3245.1482121944427s\n",
      "Epochs 3/10, train loss: 0.59973454, train acc: 0.6357, test loss: 0.53303570, test acc: 0.7002, time_cost: 3219.652215719223s\n",
      "Epochs 4/10, train loss: 0.58941013, train acc: 0.6429, test loss: 0.54221088, test acc: 0.6992, time_cost: 2477.8454439640045s\n",
      "Epochs 5/10, train loss: 0.59811044, train acc: 0.6309, test loss: 0.50061947, test acc: 0.7461, time_cost: 3449.925002336502s\n",
      "Epochs 6/10, train loss: 0.58034539, train acc: 0.6530, test loss: 0.59827918, test acc: 0.6240, time_cost: 2753.243672132492s\n",
      "Epochs 7/10, train loss: 0.57868254, train acc: 0.6544, test loss: 0.57340789, test acc: 0.6572, time_cost: 2339.77823138237s\n",
      "Epochs 8/10, train loss: 0.57428002, train acc: 0.6583, test loss: 0.62551349, test acc: 0.5938, time_cost: 2727.128031730652s\n",
      "Epochs 9/10, train loss: 0.58257282, train acc: 0.6475, test loss: 0.54513180, test acc: 0.6855, time_cost: 3515.9883353710175s\n",
      "Epochs 10/10, train loss: 0.57149607, train acc: 0.6582, test loss: 0.57750851, test acc: 0.6523, time_cost: 2940.1949355602264s\n"
     ]
    }
   ],
   "source": [
    "train()"
   ]
  },
  {
   "cell_type": "code",
   "execution_count": null,
   "metadata": {},
   "outputs": [],
   "source": [
    "train()"
   ]
  },
  {
   "cell_type": "code",
   "execution_count": null,
   "metadata": {},
   "outputs": [],
   "source": [
    "train()"
   ]
  },
  {
   "cell_type": "code",
   "execution_count": null,
   "metadata": {},
   "outputs": [],
   "source": [
    "save_custom_weights(target_model, './model/adv_classifier_mk2.pkl')"
   ]
  }
 ],
 "metadata": {
  "kernelspec": {
   "display_name": "Python 3",
   "language": "python",
   "name": "python3"
  },
  "language_info": {
   "codemirror_mode": {
    "name": "ipython",
    "version": 3
   },
   "file_extension": ".py",
   "mimetype": "text/x-python",
   "name": "python",
   "nbconvert_exporter": "python",
   "pygments_lexer": "ipython3",
   "version": "3.8.3"
  }
 },
 "nbformat": 4,
 "nbformat_minor": 4
}
