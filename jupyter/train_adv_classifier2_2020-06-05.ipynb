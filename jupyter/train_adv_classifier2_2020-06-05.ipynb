{
 "cells": [
  {
   "cell_type": "code",
   "execution_count": 17,
   "metadata": {},
   "outputs": [],
   "source": [
    "from adversarial.defences.adv_classifier import *\n",
    "import tensorflow as tf\n",
    "from tensorflow.keras import layers, models, optimizers, losses\n",
    "from tqdm import tqdm\n",
    "import time"
   ]
  },
  {
   "cell_type": "code",
   "execution_count": 2,
   "metadata": {},
   "outputs": [
    {
     "data": {
      "text/plain": [
       "[PhysicalDevice(name='/physical_device:GPU:0', device_type='GPU'),\n",
       " PhysicalDevice(name='/physical_device:GPU:1', device_type='GPU')]"
      ]
     },
     "execution_count": 2,
     "metadata": {},
     "output_type": "execute_result"
    }
   ],
   "source": [
    "tf.config.list_physical_devices('GPU') "
   ]
  },
  {
   "cell_type": "code",
   "execution_count": 3,
   "metadata": {},
   "outputs": [],
   "source": [
    "import numpy as np"
   ]
  },
  {
   "cell_type": "code",
   "execution_count": 4,
   "metadata": {},
   "outputs": [],
   "source": [
    "# dataloader\n",
    "from adversarial.utils import dataloader\n",
    "from adversarial.attacks import random_attack"
   ]
  },
  {
   "cell_type": "code",
   "execution_count": 5,
   "metadata": {},
   "outputs": [],
   "source": [
    "BATCH_SIZE = 32\n",
    "EPSILONS = np.arange(0.01, 0.5, step=0.02)\n",
    "ETA = 1e-4\n",
    "EPOCHS = 10"
   ]
  },
  {
   "cell_type": "code",
   "execution_count": 6,
   "metadata": {},
   "outputs": [],
   "source": [
    "train_data_loader = dataloader.DataLoader('./data', BATCH_SIZE, training=True)\n",
    "test_data_loader = dataloader.DataLoader('./data', BATCH_SIZE, training= False)"
   ]
  },
  {
   "cell_type": "code",
   "execution_count": 7,
   "metadata": {},
   "outputs": [],
   "source": [
    "from adversarial.defences import EnsembleModel\n",
    "from adversarial.models import *"
   ]
  },
  {
   "cell_type": "markdown",
   "metadata": {},
   "source": [
    "random_attack(앙상블 모델 넣을건데, x_image, adversarial_label, epsilon은 배열로)  \n",
    "epsilon = np.arange(0.01,0.5,0.02)  \n",
    "random_attack은 adversarial image를 리턴해준다. "
   ]
  },
  {
   "cell_type": "code",
   "execution_count": 8,
   "metadata": {},
   "outputs": [],
   "source": [
    "target_model= AdvClassifier()"
   ]
  },
  {
   "cell_type": "code",
   "execution_count": 9,
   "metadata": {},
   "outputs": [],
   "source": [
    "# train\n",
    "\n",
    "criterion = losses.CategoricalCrossentropy(label_smoothing=0.2)\n",
    "optimizer = tf.keras.optimizers.Adam(learning_rate = ETA)\n",
    "\n",
    "train_losses = tf.keras.metrics.CategoricalCrossentropy()\n",
    "train_metrics = tf.keras.metrics.CategoricalAccuracy()\n",
    "\n",
    "test_losses = tf.keras.metrics.CategoricalCrossentropy()\n",
    "test_metrics = tf.keras.metrics.CategoricalAccuracy()"
   ]
  },
  {
   "cell_type": "code",
   "execution_count": 10,
   "metadata": {},
   "outputs": [],
   "source": [
    "ensemble_model = EnsembleModel([\n",
    "    VGG19, VGG16, MobileNet, MobileNetV2, ResNet50, ResNet50V2\n",
    "])"
   ]
  },
  {
   "cell_type": "code",
   "execution_count": 11,
   "metadata": {},
   "outputs": [],
   "source": [
    "labels = [[0,1] ,[1,0]]\n",
    "    \n",
    "y_batch = []\n",
    "    \n",
    "    \n",
    "for label in labels : \n",
    "    for time in range(BATCH_SIZE) :\n",
    "        y_batch.append(label)\n",
    "\n",
    "y_tensor = tf.convert_to_tensor(y_batch)"
   ]
  },
  {
   "cell_type": "code",
   "execution_count": 12,
   "metadata": {},
   "outputs": [],
   "source": [
    "def train_step(images, adv_labels):\n",
    "\n",
    "    adv, _, success = random_attack(ensemble_model, images, adv_labels, EPSILONS)\n",
    "    \n",
    "    x_batch = tf.concat([images, adv], axis=0)\n",
    "    y_batch = y_tensor\n",
    "    with tf.GradientTape() as tape:\n",
    "        outputs = target_model(x_batch, training = True)\n",
    "      #  print('y_batch : ' ,y_batch)\n",
    "       # print('outputs : ' ,outputs)\n",
    "        loss = criterion(y_batch, outputs)\n",
    "    print('batch loss : {0}'.format(loss.numpy()), end = '\\r')\n",
    "    train_losses.update_state(y_batch, outputs)\n",
    "    train_metrics.update_state(y_batch, outputs)\n",
    "        \n",
    "    grads = tape.gradient(loss, target_model.trainable_variables)\n",
    "    optimizer.apply_gradients(zip(grads, target_model.trainable_variables))"
   ]
  },
  {
   "cell_type": "code",
   "execution_count": 13,
   "metadata": {},
   "outputs": [],
   "source": [
    "def test_step(images, labels, adv_labels) :\n",
    "    adv,_, success = random_attack(ensemble_model, images, adv_labels, EPSILONS)\n",
    "    x_batch = tf.concat([images, adv], axis=0)\n",
    "    y_batch = y_tensor\n",
    "    #y_batch = tf.concat([tf.zeros(16, dtype = tf.int32),\n",
    "     #                    tf.ones(16, dtype = tf.int32)], \n",
    "      #                   axis = 0)\n",
    "    \n",
    "    predictions = target_model(x_batch, training= False)\n",
    "    loss = tf.keras.losses.binary_crossentropy(y_batch, predictions)\n",
    "    test_losses.update_state(y_batch, predictions)\n",
    "    test_metrics.update_state(y_batch, predictions)"
   ]
  },
  {
   "cell_type": "code",
   "execution_count": 19,
   "metadata": {},
   "outputs": [],
   "source": [
    "def train():\n",
    "\n",
    "    train_loss_list = []\n",
    "    test_loss_list = []\n",
    "\n",
    "    for e in range(EPOCHS):\n",
    "        start = time.time()\n",
    "        for x_batch, y_batch, adv_batch in iter(train_data_loader):\n",
    "            train_step(x_batch, adv_batch)\n",
    "\n",
    "        for x_batch, y_batch, adv_batch in iter(test_data_loader):\n",
    "            test_step(x_batch, y_batch, adv_batch)\n",
    "\n",
    "\n",
    "        train_loss = train_losses.result()\n",
    "        train_acc = train_metrics.result()\n",
    "\n",
    "        test_loss = test_losses.result()\n",
    "        test_acc = test_metrics.result()\n",
    "\n",
    "        train_loss_list.append(train_loss)\n",
    "        test_loss_list.append(test_loss)\n",
    "\n",
    "        train_losses.reset_states()\n",
    "        train_metrics.reset_states()\n",
    "        test_losses.reset_states()\n",
    "        test_metrics.reset_states()\n",
    "        end = time.time()\n",
    "        print(f\"Epochs {e+1}/{EPOCHS}, train loss: {train_loss:.8f}, train acc: {train_acc:.4f}, test loss: {test_loss:.8f}, test acc: {test_acc:.4f}, time_cost: {end-start}s\")"
   ]
  },
  {
   "cell_type": "code",
   "execution_count": 21,
   "metadata": {},
   "outputs": [
    {
     "name": "stdout",
     "output_type": "stream",
     "text": [
      "Epochs 1/10, train loss: 0.62176311, train acc: 0.6613, test loss: 0.54507875, test acc: 0.6855, time_cost: 2609.6581983566284s\n",
      "Epochs 2/10, train loss: 0.58860153, train acc: 0.6587, test loss: 0.53270948, test acc: 0.7109, time_cost: 2770.6045999526978s\n",
      "Epochs 3/10, train loss: 0.55395162, train acc: 0.6714, test loss: 0.56398332, test acc: 0.6523, time_cost: 3454.5851106643677s\n",
      "Epochs 4/10, train loss: 0.55065924, train acc: 0.6628, test loss: 0.70388210, test acc: 0.5293, time_cost: 3310.0244274139404s\n",
      "Epochs 5/10, train loss: 0.51733398, train acc: 0.6850, test loss: 0.55788344, test acc: 0.6436, time_cost: 2873.4723043441772s\n",
      "Epochs 6/10, train loss: 0.53949726, train acc: 0.6571, test loss: 0.45360413, test acc: 0.7227, time_cost: 2622.358393907547s\n",
      "Epochs 7/10, train loss: 0.51027137, train acc: 0.6813, test loss: 0.48777840, test acc: 0.6855, time_cost: 3087.1960372924805s\n",
      "Epochs 8/10, train loss: 0.49250671, train acc: 0.6935, test loss: 0.45618841, test acc: 0.7207, time_cost: 3202.4990351200104s\n",
      "Epochs 9/10, train loss: 0.50451374, train acc: 0.6834, test loss: 0.46724066, test acc: 0.7295, time_cost: 3016.2337548732758s\n",
      "Epochs 10/10, train loss: 0.52241427, train acc: 0.6688, test loss: 0.54297233, test acc: 0.6602, time_cost: 3462.061824321747s\n"
     ]
    }
   ],
   "source": [
    "train()"
   ]
  },
  {
   "cell_type": "code",
   "execution_count": 22,
   "metadata": {},
   "outputs": [
    {
     "name": "stdout",
     "output_type": "stream",
     "text": [
      "Epochs 1/10, train loss: 0.51750517, train acc: 0.6736, test loss: 0.57008600, test acc: 0.6309, time_cost: 3243.5787994861603s\n",
      "Epochs 2/10, train loss: 0.49869192, train acc: 0.6937, test loss: 0.57917112, test acc: 0.6172, time_cost: 2432.589989423752s\n",
      "Epochs 3/10, train loss: 0.50031179, train acc: 0.6885, test loss: 0.52491742, test acc: 0.6758, time_cost: 2649.0924146175385s\n",
      "Epochs 4/10, train loss: 0.52716410, train acc: 0.6734, test loss: 0.41781813, test acc: 0.7646, time_cost: 3073.472977876663s\n",
      "Epochs 5/10, train loss: 0.51241469, train acc: 0.6862, test loss: 0.44113183, test acc: 0.7549, time_cost: 3200.534516096115s\n",
      "Epochs 6/10, train loss: 0.49848786, train acc: 0.6974, test loss: 0.45478064, test acc: 0.7441, time_cost: 2988.365292072296s\n",
      "Epochs 7/10, train loss: 0.50691944, train acc: 0.6886, test loss: 0.58776140, test acc: 0.6172, time_cost: 2562.6712470054626s\n",
      "Epochs 8/10, train loss: 0.48853531, train acc: 0.7088, test loss: 0.40575883, test acc: 0.7607, time_cost: 2854.823963165283s\n",
      "Epochs 9/10, train loss: 0.50332087, train acc: 0.6953, test loss: 0.47077233, test acc: 0.7158, time_cost: 3206.9437708854675s\n",
      "Epochs 10/10, train loss: 0.51683098, train acc: 0.6865, test loss: 0.58675259, test acc: 0.6230, time_cost: 2822.089907884598s\n"
     ]
    }
   ],
   "source": [
    "train()"
   ]
  },
  {
   "cell_type": "code",
   "execution_count": 23,
   "metadata": {},
   "outputs": [
    {
     "name": "stdout",
     "output_type": "stream",
     "text": [
      "Epochs 1/10, train loss: 0.52093798, train acc: 0.6811, test loss: 0.52138489, test acc: 0.6914, time_cost: 3488.5986235141754s\n",
      "Epochs 2/10, train loss: 0.49313843, train acc: 0.7070, test loss: 0.47310925, test acc: 0.7168, time_cost: 3222.2192149162292s\n",
      "Epochs 3/10, train loss: 0.49812859, train acc: 0.7057, test loss: 0.59254462, test acc: 0.6436, time_cost: 3079.3095376491547s\n",
      "Epochs 4/10, train loss: 0.50879407, train acc: 0.6973, test loss: 0.39965388, test acc: 0.7803, time_cost: 2875.8597536087036s\n",
      "Epochs 5/10, train loss: 0.50002253, train acc: 0.7075, test loss: 0.44758257, test acc: 0.7793, time_cost: 2754.562947511673s\n",
      "Epochs 6/10, train loss: 0.51897883, train acc: 0.6903, test loss: 0.41976553, test acc: 0.7930, time_cost: 3273.222067832947s\n",
      "Epochs 7/10, train loss: 0.51053315, train acc: 0.6987, test loss: 0.52199429, test acc: 0.7051, time_cost: 2905.5555543899536s\n",
      "Epochs 8/10, train loss: 0.48209170, train acc: 0.7197, test loss: 0.66398978, test acc: 0.5459, time_cost: 2826.609023809433s\n",
      "Epochs 9/10, train loss: 0.49354160, train acc: 0.7098, test loss: 0.55786675, test acc: 0.6670, time_cost: 3184.3455305099487s\n",
      "Epochs 10/10, train loss: 0.47668079, train acc: 0.7220, test loss: 0.47552043, test acc: 0.7334, time_cost: 3164.3339409828186s\n"
     ]
    }
   ],
   "source": [
    "train()"
   ]
  },
  {
   "cell_type": "code",
   "execution_count": 24,
   "metadata": {},
   "outputs": [
    {
     "ename": "NameError",
     "evalue": "name 'save_custom_weights' is not defined",
     "output_type": "error",
     "traceback": [
      "\u001b[0;31m---------------------------------------------------------------------------\u001b[0m",
      "\u001b[0;31mNameError\u001b[0m                                 Traceback (most recent call last)",
      "\u001b[0;32m<ipython-input-24-ae476c963cb6>\u001b[0m in \u001b[0;36m<module>\u001b[0;34m\u001b[0m\n\u001b[0;32m----> 1\u001b[0;31m \u001b[0msave_custom_weights\u001b[0m\u001b[0;34m(\u001b[0m\u001b[0mtarget_model\u001b[0m\u001b[0;34m,\u001b[0m\u001b[0;34m'./model/adv_classifier_6.5.pkl'\u001b[0m\u001b[0;34m)\u001b[0m\u001b[0;34m\u001b[0m\u001b[0;34m\u001b[0m\u001b[0m\n\u001b[0m",
      "\u001b[0;31mNameError\u001b[0m: name 'save_custom_weights' is not defined"
     ]
    }
   ],
   "source": [
    "save_custom_weights(target_model,'./model/adv_classifier_6.5.pkl')"
   ]
  },
  {
   "cell_type": "code",
   "execution_count": null,
   "metadata": {},
   "outputs": [],
   "source": [
    "def load_custom_weights(model, path):\n",
    "    with open(path, \"rb\") as f:\n",
    "        data = pickle.load(f)\n",
    "        model.set_weights(data)\n",
    "\n",
    "def save_custom_weights(model, path):\n",
    "    with open(path, \"wb\") as f:\n",
    "        pickle.dump(model.get_weights(), f)"
   ]
  },
  {
   "cell_type": "code",
   "execution_count": null,
   "metadata": {},
   "outputs": [],
   "source": []
  }
 ],
 "metadata": {
  "kernelspec": {
   "display_name": "Python 3",
   "language": "python",
   "name": "python3"
  },
  "language_info": {
   "codemirror_mode": {
    "name": "ipython",
    "version": 3
   },
   "file_extension": ".py",
   "mimetype": "text/x-python",
   "name": "python",
   "nbconvert_exporter": "python",
   "pygments_lexer": "ipython3",
   "version": "3.8.3"
  }
 },
 "nbformat": 4,
 "nbformat_minor": 4
}
