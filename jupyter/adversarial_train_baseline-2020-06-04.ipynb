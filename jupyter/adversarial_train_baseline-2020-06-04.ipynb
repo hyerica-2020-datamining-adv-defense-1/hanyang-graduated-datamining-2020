{
 "cells": [
  {
   "cell_type": "code",
   "execution_count": 1,
   "metadata": {},
   "outputs": [],
   "source": [
    "GPUS = [2]\n",
    "\n",
    "import os\n",
    "os.environ[\"CUDA_VISIBLE_DEVICES\"] = \",\".join(map(str, GPUS))"
   ]
  },
  {
   "cell_type": "code",
   "execution_count": 2,
   "metadata": {},
   "outputs": [],
   "source": [
    "from datetime import datetime"
   ]
  },
  {
   "cell_type": "code",
   "execution_count": 3,
   "metadata": {},
   "outputs": [],
   "source": [
    "import numpy as np\n",
    "import matplotlib.pyplot as plt\n",
    "import tensorflow as tf\n",
    "from tensorflow.keras import optimizers, metrics, losses"
   ]
  },
  {
   "cell_type": "code",
   "execution_count": 4,
   "metadata": {},
   "outputs": [],
   "source": [
    "from adversarial.attacks import random_attack\n",
    "from adversarial.utils import dataloader\n",
    "from adversarial.defences import EnsembleModel, FeatureDistinctionBlock\n",
    "from adversarial import models"
   ]
  },
  {
   "cell_type": "code",
   "execution_count": 5,
   "metadata": {},
   "outputs": [],
   "source": [
    "BATCH_SIZE = 32\n",
    "EPSILONS = np.arange(0.01, 0.5, step=0.02)\n",
    "ETA = 1e-7\n",
    "EPOCHS = 30"
   ]
  },
  {
   "cell_type": "code",
   "execution_count": 6,
   "metadata": {},
   "outputs": [],
   "source": [
    "train_dloader = dataloader.DataLoader(\"data\", BATCH_SIZE, training=True)\n",
    "test_dloader = dataloader.DataLoader(\"data\", BATCH_SIZE, training=False)"
   ]
  },
  {
   "cell_type": "code",
   "execution_count": 7,
   "metadata": {},
   "outputs": [],
   "source": [
    "# strategy = tf.distribute.MirroredStrategy(devices=list([f\"/device:gpu:{i}\" for i in [1, 2]]))"
   ]
  },
  {
   "cell_type": "code",
   "execution_count": 8,
   "metadata": {},
   "outputs": [],
   "source": [
    "target_model = models.MobileNetV2()\n",
    "target_model(tf.random.normal((10, 160, 160, 3)))\n",
    "target_model.load_custom_weights(\"model/model_20200507_9_1.00_0.0088\")"
   ]
  },
  {
   "cell_type": "code",
   "execution_count": 9,
   "metadata": {},
   "outputs": [],
   "source": [
    "ensemble_model = EnsembleModel([\n",
    "    models.MobileNetV2,\n",
    "    models.MobileNet,\n",
    "    models.VGG16,\n",
    "    models.VGG19,\n",
    "    models.ResNet50,\n",
    "    models.ResNet50V2\n",
    "])"
   ]
  },
  {
   "cell_type": "code",
   "execution_count": 10,
   "metadata": {},
   "outputs": [],
   "source": [
    "criterion = losses.SparseCategoricalCrossentropy()\n",
    "optimizer = optimizers.Adam(learning_rate=ETA)\n",
    "\n",
    "train_losses = metrics.SparseCategoricalCrossentropy()\n",
    "train_metrics = metrics.SparseCategoricalAccuracy()\n",
    "\n",
    "test_losses = metrics.SparseCategoricalCrossentropy()\n",
    "test_metrics = metrics.SparseCategoricalAccuracy()"
   ]
  },
  {
   "cell_type": "code",
   "execution_count": 11,
   "metadata": {},
   "outputs": [],
   "source": [
    "def train_step(images, labels, adv_labels):\n",
    "    adv, _, success = random_attack(ensemble_model, images, adv_labels, EPSILONS)\n",
    "\n",
    "    n = tf.shape(adv)[0]\n",
    "    slicing = tf.concat([tf.ones((n,), dtype=tf.int32), tf.cast(success, tf.int32)], axis=0)\n",
    "\n",
    "    x_batch, y_batch = dataloader.concat_data(images, labels, adv)\n",
    "    x_batch = x_batch[slicing == 1]\n",
    "    y_batch = y_batch[slicing == 1]\n",
    "\n",
    "    # for i in range(tf.shape(x_batch)[0]):\n",
    "    #     print(y_batch[i].numpy())\n",
    "    #     plt.imshow(x_batch.numpy()[i])\n",
    "    #     plt.show()\n",
    "\n",
    "    with tf.GradientTape() as tape:\n",
    "        outputs = target_model(x_batch, training=True)\n",
    "        loss = criterion(y_batch, outputs)\n",
    "\n",
    "    # print(loss.numpy())\n",
    "\n",
    "    train_losses.update_state(y_batch, outputs)\n",
    "    train_metrics.update_state(y_batch, outputs)\n",
    "\n",
    "    grads = tape.gradient(loss, target_model.trainable_variables)\n",
    "    optimizer.apply_gradients(zip(grads, target_model.trainable_variables))\n",
    "\n",
    "    # return y_batch, outputs"
   ]
  },
  {
   "cell_type": "code",
   "execution_count": 20,
   "metadata": {},
   "outputs": [],
   "source": [
    "def test_step(images, labels, adv_labels, include_clean=True):\n",
    "    adv, _, success = random_attack(ensemble_model, images, adv_labels, EPSILONS)\n",
    "\n",
    "    if include_clean is True:\n",
    "        n = tf.shape(adv)[0]\n",
    "        slicing = tf.concat([tf.ones((n,), dtype=tf.int32), tf.cast(success, tf.int32)], axis=0)\n",
    "\n",
    "        x_batch, y_batch = dataloader.concat_data(images, labels, adv)\n",
    "        x_batch = x_batch[slicing == 1]\n",
    "        y_batch = y_batch[slicing == 1]\n",
    "    else:\n",
    "        x_batch = adv\n",
    "        y_batch = labels\n",
    "\n",
    "    outputs = target_model(x_batch, training=False)\n",
    "\n",
    "    test_losses.update_state(y_batch, outputs)\n",
    "    test_metrics.update_state(y_batch, outputs)\n",
    "\n",
    "    # return y_batch, outputs"
   ]
  },
  {
   "cell_type": "code",
   "execution_count": 13,
   "metadata": {},
   "outputs": [],
   "source": [
    "# with strategy.scope():\n",
    "#     def distribute_train_step(x_batch, y_batch, adv_batch):\n",
    "#         y_batch_replica, outputs_replica = strategy.experimental_run_v2(train_step, args=(x_batch, y_batch, adv_batch))\n",
    "\n",
    "#         y_batch = strategy.reduce(tf.distribute.ReduceOp.SUM, y_batch_replica, axis=0)\n",
    "#         outputs = strategy.reduce(tf.distribute.ReduceOp.SUM, outputs_replica, axis=0)\n",
    "\n",
    "#         train_losses.update_state(y_batch, outputs)\n",
    "#         train_metrics.update_state(y_batch, outputs)\n",
    "\n",
    "#     def distribute_test_step(x_batch, y_batch, adv_batch):\n",
    "#         y_batch_replica, outputs_replica = strategy.experimental_run_v2(test_step, args=(x_batch, y_batch, adv_batch))\n",
    "\n",
    "#         y_batch = strategy.reduce(tf.distribute.ReduceOp.SUM, y_batch_replica, axis=0)\n",
    "#         outputs = strategy.reduce(tf.distribute.ReduceOp.SUM, outputs_replica, axis=0)\n",
    "\n",
    "#         test_losses.update_state(y_batch, outputs)\n",
    "#         test_metrics.update_state(y_batch, outputs)"
   ]
  },
  {
   "cell_type": "code",
   "execution_count": 14,
   "metadata": {},
   "outputs": [],
   "source": [
    "def train():\n",
    "\n",
    "    train_loss_list = []\n",
    "    test_loss_list = []\n",
    "    \n",
    "    best_test_loss = 100\n",
    "\n",
    "    for e in range(EPOCHS):\n",
    "        for x_batch, y_batch, adv_batch in iter(train_dloader):\n",
    "            train_step(x_batch, y_batch, adv_batch)\n",
    "\n",
    "        for x_batch, y_batch, adv_batch in iter(test_dloader):\n",
    "            test_step(x_batch, y_batch, adv_batch)\n",
    "\n",
    "        train_loss = train_losses.result()\n",
    "        train_acc = train_metrics.result()\n",
    "\n",
    "        test_loss = test_losses.result()\n",
    "        test_acc = test_metrics.result()\n",
    "\n",
    "        train_loss_list.append(train_loss)\n",
    "        test_loss_list.append(test_loss)\n",
    "\n",
    "        train_losses.reset_states()\n",
    "        train_metrics.reset_states()\n",
    "        test_losses.reset_states()\n",
    "        test_metrics.reset_states()\n",
    "\n",
    "        print(f\"Epochs {e+1}/{EPOCHS}, train loss: {train_loss:.8f}, train acc: {train_acc:.4f}, test loss: {test_loss:.8f}, test acc: {test_acc:.4f}\")\n",
    "        \n",
    "        if best_test_loss >= test_loss:\n",
    "            best_test_loss = test_loss\n",
    "            now = datetime.now().strftime(\"%Y-%m-%d_%H-%M-%S\")\n",
    "            \n",
    "            target_model.save_custom_weights(f\"model/baseline-{now}.pkl\")\n",
    "        \n",
    "    return train_loss_list, test_loss_list\n"
   ]
  },
  {
   "cell_type": "code",
   "execution_count": null,
   "metadata": {},
   "outputs": [
    {
     "name": "stdout",
     "output_type": "stream",
     "text": [
      "WARNING:tensorflow:From /home/jylee/miniconda3/envs/tf2/lib/python3.7/site-packages/foolbox/models/tensorflow.py:13: is_gpu_available (from tensorflow.python.framework.test_util) is deprecated and will be removed in a future version.\n",
      "Instructions for updating:\n",
      "Use `tf.config.list_physical_devices('GPU')` instead.\n",
      "Epochs 1/30, train loss: 0.36834714, train acc: 0.9133, test loss: 0.63664460, test acc: 0.8603\n",
      "Epochs 2/30, train loss: 0.40671438, train acc: 0.9069, test loss: 0.46591127, test acc: 0.8889\n",
      "Epochs 3/30, train loss: 0.36165369, train acc: 0.9154, test loss: 0.57013088, test acc: 0.8742\n",
      "Epochs 4/30, train loss: 0.36049283, train acc: 0.9124, test loss: 0.41329420, test acc: 0.9069\n",
      "Epochs 5/30, train loss: 0.38124496, train acc: 0.9083, test loss: 0.40847537, test acc: 0.9043\n",
      "Epochs 6/30, train loss: 0.36402455, train acc: 0.9131, test loss: 0.21963364, test acc: 0.9291\n",
      "Epochs 7/30, train loss: 0.31673148, train acc: 0.9208, test loss: 0.48085403, test acc: 0.8671\n",
      "Epochs 8/30, train loss: 0.35349926, train acc: 0.9119, test loss: 0.37575039, test acc: 0.9096\n",
      "Epochs 9/30, train loss: 0.35086682, train acc: 0.9126, test loss: 0.32847691, test acc: 0.9196\n",
      "Epochs 10/30, train loss: 0.35705149, train acc: 0.9102, test loss: 0.32170588, test acc: 0.9202\n",
      "Epochs 11/30, train loss: 0.30874684, train acc: 0.9203, test loss: 0.50184655, test acc: 0.8716\n",
      "Epochs 12/30, train loss: 0.29994190, train acc: 0.9254, test loss: 0.42236650, test acc: 0.8813\n",
      "Epochs 13/30, train loss: 0.32496303, train acc: 0.9167, test loss: 0.36564276, test acc: 0.9039\n",
      "Epochs 14/30, train loss: 0.35651883, train acc: 0.9095, test loss: 0.58906168, test acc: 0.8520\n",
      "Epochs 15/30, train loss: 0.31113172, train acc: 0.9210, test loss: 0.51877159, test acc: 0.8668\n",
      "Epochs 16/30, train loss: 0.30215612, train acc: 0.9236, test loss: 0.23554233, test acc: 0.9346\n",
      "Epochs 17/30, train loss: 0.31245157, train acc: 0.9210, test loss: 0.40895024, test acc: 0.9005\n",
      "Epochs 18/30, train loss: 0.30753934, train acc: 0.9218, test loss: 0.62752223, test acc: 0.8338\n",
      "Epochs 19/30, train loss: 0.30468211, train acc: 0.9202, test loss: 0.51937777, test acc: 0.8667\n",
      "Epochs 20/30, train loss: 0.29937711, train acc: 0.9218, test loss: 0.45756778, test acc: 0.8806\n",
      "Epochs 21/30, train loss: 0.30730277, train acc: 0.9199, test loss: 0.48297316, test acc: 0.8704\n",
      "Epochs 22/30, train loss: 0.29067937, train acc: 0.9250, test loss: 0.34577742, test acc: 0.9015\n",
      "Epochs 23/30, train loss: 0.32345352, train acc: 0.9177, test loss: 0.59892035, test acc: 0.8443\n",
      "Epochs 24/30, train loss: 0.27925876, train acc: 0.9255, test loss: 0.31441110, test acc: 0.9132\n",
      "Epochs 25/30, train loss: 0.25146931, train acc: 0.9326, test loss: 0.38132575, test acc: 0.8978\n",
      "Epochs 26/30, train loss: 0.30728176, train acc: 0.9199, test loss: 0.54678792, test acc: 0.8426\n",
      "Epochs 27/30, train loss: 0.27446088, train acc: 0.9273, test loss: 0.28372890, test acc: 0.9256\n",
      "Epochs 28/30, train loss: 0.24057823, train acc: 0.9351, test loss: 0.40079972, test acc: 0.8898\n"
     ]
    }
   ],
   "source": [
    "train_loss_list, test_loss_list = train()"
   ]
  },
  {
   "cell_type": "code",
   "execution_count": 17,
   "metadata": {},
   "outputs": [
    {
     "data": {
      "image/png": "[encoded data removed]",
      "text/plain": [
       "<Figure size 864x288 with 1 Axes>"
      ]
     },
     "metadata": {
      "needs_background": "light"
     },
     "output_type": "display_data"
    }
   ],
   "source": [
    "plt.figure(figsize=(12, 4))\n",
    "plt.plot(train_loss_list, c=\"blue\", label=\"train loss\")\n",
    "plt.plot(test_loss_list, c=\"orange\", label=\"test loss\")\n",
    "plt.xlabel(\"epochs\")\n",
    "plt.ylabel(\"loss\")\n",
    "plt.title(\"Loss through epochs\")\n",
    "plt.legend()\n",
    "plt.show()"
   ]
  },
  {
   "cell_type": "code",
   "execution_count": 18,
   "metadata": {},
   "outputs": [],
   "source": [
    "def test():\n",
    "\n",
    "    train_loss_list = []\n",
    "    test_loss_list = []\n",
    "    \n",
    "    for x_batch, y_batch, adv_batch in iter(test_dloader):\n",
    "        test_step(x_batch, y_batch, adv_batch, include_clean=False)\n",
    "\n",
    "    test_loss = test_losses.result()\n",
    "    test_acc = test_metrics.result()\n",
    "\n",
    "    test_loss_list.append(test_loss)\n",
    "\n",
    "    test_losses.reset_states()\n",
    "    test_metrics.reset_states()\n",
    "\n",
    "    print(f\"test loss: {test_loss:.8f}, test acc: {test_acc:.4f}\")\n"
   ]
  },
  {
   "cell_type": "code",
   "execution_count": 21,
   "metadata": {},
   "outputs": [
    {
     "name": "stdout",
     "output_type": "stream",
     "text": [
      "test loss: 1.04596090, test acc: 0.7305\n"
     ]
    }
   ],
   "source": [
    "test()"
   ]
  },
  {
   "cell_type": "code",
   "execution_count": null,
   "metadata": {},
   "outputs": [],
   "source": []
  }
 ],
 "metadata": {
  "kernelspec": {
   "display_name": "Python3 (Tensorflow 2)",
   "language": "python",
   "name": "tf2"
  },
  "language_info": {
   "codemirror_mode": {
    "name": "ipython",
    "version": 3
   },
   "file_extension": ".py",
   "mimetype": "text/x-python",
   "name": "python",
   "nbconvert_exporter": "python",
   "pygments_lexer": "ipython3",
   "version": "3.7.6"
  }
 },
 "nbformat": 4,
 "nbformat_minor": 4
}
