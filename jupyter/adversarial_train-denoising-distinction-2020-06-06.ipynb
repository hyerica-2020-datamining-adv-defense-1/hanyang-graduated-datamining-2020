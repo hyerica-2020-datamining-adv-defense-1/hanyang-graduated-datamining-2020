{
 "cells": [
  {
   "cell_type": "code",
   "execution_count": 1,
   "metadata": {},
   "outputs": [],
   "source": [
    "GPUS = [2]\n",
    "\n",
    "import os\n",
    "os.environ[\"CUDA_VISIBLE_DEVICES\"] = \",\".join(map(str, GPUS))"
   ]
  },
  {
   "cell_type": "code",
   "execution_count": 2,
   "metadata": {},
   "outputs": [],
   "source": [
    "from datetime import datetime"
   ]
  },
  {
   "cell_type": "code",
   "execution_count": 3,
   "metadata": {},
   "outputs": [],
   "source": [
    "import numpy as np\n",
    "import matplotlib.pyplot as plt\n",
    "import tensorflow as tf\n",
    "from tensorflow.keras import optimizers, metrics, losses"
   ]
  },
  {
   "cell_type": "code",
   "execution_count": 4,
   "metadata": {},
   "outputs": [],
   "source": [
    "from adversarial.attacks import random_attack\n",
    "from adversarial.utils import dataloader\n",
    "from adversarial.defences import EnsembleModel, FeatureDistinctionBlock\n",
    "from adversarial import models"
   ]
  },
  {
   "cell_type": "code",
   "execution_count": 5,
   "metadata": {},
   "outputs": [],
   "source": [
    "BATCH_SIZE = 32\n",
    "EPSILONS = np.arange(0.01, 0.5, step=0.02)\n",
    "ETA = 1e-7\n",
    "EPOCHS = 30"
   ]
  },
  {
   "cell_type": "code",
   "execution_count": 6,
   "metadata": {},
   "outputs": [],
   "source": [
    "train_dloader = dataloader.DataLoader(\"data\", BATCH_SIZE, training=True)\n",
    "test_dloader = dataloader.DataLoader(\"data\", BATCH_SIZE, training=False)"
   ]
  },
  {
   "cell_type": "code",
   "execution_count": 7,
   "metadata": {},
   "outputs": [],
   "source": [
    "# strategy = tf.distribute.MirroredStrategy(devices=list([f\"/device:gpu:{i}\" for i in [1, 2]]))"
   ]
  },
  {
   "cell_type": "code",
   "execution_count": 8,
   "metadata": {},
   "outputs": [],
   "source": [
    "target_model = models.TargetModelV2()\n",
    "target_model(tf.random.normal((10, 160, 160, 3)), tf.random.normal((10,)))\n",
    "target_model.load_custom_weights(\"model/ensemble_denoising_distinction-2020-06-01_16-22-33.pkl\")"
   ]
  },
  {
   "cell_type": "code",
   "execution_count": 9,
   "metadata": {},
   "outputs": [],
   "source": [
    "ensemble_model = EnsembleModel([\n",
    "    models.MobileNetV2,\n",
    "    models.MobileNet,\n",
    "    models.VGG16,\n",
    "    models.VGG19,\n",
    "    models.ResNet50,\n",
    "    models.ResNet50V2\n",
    "])"
   ]
  },
  {
   "cell_type": "code",
   "execution_count": 10,
   "metadata": {},
   "outputs": [],
   "source": [
    "criterion = losses.SparseCategoricalCrossentropy()\n",
    "optimizer = optimizers.Adam(learning_rate=ETA)\n",
    "\n",
    "train_losses = metrics.SparseCategoricalCrossentropy()\n",
    "train_metrics = metrics.SparseCategoricalAccuracy()\n",
    "\n",
    "test_losses = metrics.SparseCategoricalCrossentropy()\n",
    "test_metrics = metrics.SparseCategoricalAccuracy()"
   ]
  },
  {
   "cell_type": "code",
   "execution_count": 11,
   "metadata": {},
   "outputs": [],
   "source": [
    "def train_step(images, labels, adv_labels):\n",
    "    adv, _, success = random_attack(ensemble_model, images, adv_labels, EPSILONS)\n",
    "\n",
    "    n = tf.shape(adv)[0]\n",
    "    slicing = tf.concat([tf.ones((n,), dtype=tf.int32), tf.cast(success, tf.int32)], axis=0)\n",
    "    \n",
    "    images = dataloader.add_noise(images)\n",
    "\n",
    "    x_batch, y_batch = dataloader.concat_data(images, labels, adv)\n",
    "    x_batch = x_batch[slicing == 1]\n",
    "    y_batch = y_batch[slicing == 1]\n",
    "\n",
    "    # for i in range(tf.shape(x_batch)[0]):\n",
    "    #     print(y_batch[i].numpy())\n",
    "    #     plt.imshow(x_batch.numpy()[i])\n",
    "    #     plt.show()\n",
    "\n",
    "    with tf.GradientTape() as tape:\n",
    "        outputs, Lpc = target_model(x_batch, y_batch, training=True)\n",
    "        loss = criterion(y_batch, outputs) + 0.2*tf.reduce_mean(Lpc)\n",
    "\n",
    "    # print(loss.numpy())\n",
    "\n",
    "    train_losses.update_state(y_batch, outputs)\n",
    "    train_metrics.update_state(y_batch, outputs)\n",
    "\n",
    "    grads = tape.gradient(loss, target_model.trainable_variables)\n",
    "    optimizer.apply_gradients(zip(grads, target_model.trainable_variables))\n",
    "\n",
    "    # return y_batch, outputs"
   ]
  },
  {
   "cell_type": "code",
   "execution_count": 12,
   "metadata": {},
   "outputs": [],
   "source": [
    "def test_step(images, labels, adv_labels, include_clean=True):\n",
    "    adv, _, success = random_attack(ensemble_model, images, adv_labels, EPSILONS)\n",
    "\n",
    "    if include_clean is True:\n",
    "        n = tf.shape(adv)[0]\n",
    "        slicing = tf.concat([tf.ones((n,), dtype=tf.int32), tf.cast(success, tf.int32)], axis=0)\n",
    "\n",
    "        x_batch, y_batch = dataloader.concat_data(images, labels, adv)\n",
    "        x_batch = x_batch[slicing == 1]\n",
    "        y_batch = y_batch[slicing == 1]\n",
    "    else:\n",
    "        x_batch = adv\n",
    "        y_batch = labels\n",
    "\n",
    "    outputs, _ = target_model(x_batch, y_batch, training=False)\n",
    "\n",
    "    test_losses.update_state(y_batch, outputs)\n",
    "    test_metrics.update_state(y_batch, outputs)\n",
    "\n",
    "    # return y_batch, outputs"
   ]
  },
  {
   "cell_type": "code",
   "execution_count": 13,
   "metadata": {},
   "outputs": [],
   "source": [
    "# with strategy.scope():\n",
    "#     def distribute_train_step(x_batch, y_batch, adv_batch):\n",
    "#         y_batch_replica, outputs_replica = strategy.experimental_run_v2(train_step, args=(x_batch, y_batch, adv_batch))\n",
    "\n",
    "#         y_batch = strategy.reduce(tf.distribute.ReduceOp.SUM, y_batch_replica, axis=0)\n",
    "#         outputs = strategy.reduce(tf.distribute.ReduceOp.SUM, outputs_replica, axis=0)\n",
    "\n",
    "#         train_losses.update_state(y_batch, outputs)\n",
    "#         train_metrics.update_state(y_batch, outputs)\n",
    "\n",
    "#     def distribute_test_step(x_batch, y_batch, adv_batch):\n",
    "#         y_batch_replica, outputs_replica = strategy.experimental_run_v2(test_step, args=(x_batch, y_batch, adv_batch))\n",
    "\n",
    "#         y_batch = strategy.reduce(tf.distribute.ReduceOp.SUM, y_batch_replica, axis=0)\n",
    "#         outputs = strategy.reduce(tf.distribute.ReduceOp.SUM, outputs_replica, axis=0)\n",
    "\n",
    "#         test_losses.update_state(y_batch, outputs)\n",
    "#         test_metrics.update_state(y_batch, outputs)"
   ]
  },
  {
   "cell_type": "code",
   "execution_count": 14,
   "metadata": {},
   "outputs": [],
   "source": [
    "def train():\n",
    "\n",
    "    train_loss_list = []\n",
    "    test_loss_list = []\n",
    "    \n",
    "    best_test_loss = 0.6\n",
    "\n",
    "    for e in range(EPOCHS):\n",
    "        for x_batch, y_batch, adv_batch in iter(train_dloader):\n",
    "            train_step(x_batch, y_batch, adv_batch)\n",
    "\n",
    "        for x_batch, y_batch, adv_batch in iter(test_dloader):\n",
    "            test_step(x_batch, y_batch, adv_batch)\n",
    "\n",
    "        train_loss = train_losses.result()\n",
    "        train_acc = train_metrics.result()\n",
    "\n",
    "        test_loss = test_losses.result()\n",
    "        test_acc = test_metrics.result()\n",
    "\n",
    "        train_loss_list.append(train_loss)\n",
    "        test_loss_list.append(test_loss)\n",
    "\n",
    "        train_losses.reset_states()\n",
    "        train_metrics.reset_states()\n",
    "        test_losses.reset_states()\n",
    "        test_metrics.reset_states()\n",
    "\n",
    "        print(f\"Epochs {e+1}/{EPOCHS}, train loss: {train_loss:.8f}, train acc: {train_acc:.4f}, test loss: {test_loss:.8f}, test acc: {test_acc:.4f}\")\n",
    "        \n",
    "        if best_test_loss >= test_loss:\n",
    "            best_test_loss = test_loss\n",
    "            now = datetime.now().strftime(\"%Y-%m-%d_%H-%M-%S\")\n",
    "            \n",
    "            target_model.save_custom_weights(f\"model/ensemble_denoising_distinction-{now}.pkl\")\n",
    "        \n",
    "    return train_loss_list, test_loss_list\n"
   ]
  },
  {
   "cell_type": "code",
   "execution_count": 15,
   "metadata": {},
   "outputs": [
    {
     "name": "stdout",
     "output_type": "stream",
     "text": [
      "WARNING:tensorflow:From /home/jylee/miniconda3/envs/tf2/lib/python3.7/site-packages/foolbox/models/tensorflow.py:13: is_gpu_available (from tensorflow.python.framework.test_util) is deprecated and will be removed in a future version.\n",
      "Instructions for updating:\n",
      "Use `tf.config.list_physical_devices('GPU')` instead.\n",
      "Epochs 1/30, train loss: 0.59951484, train acc: 0.8475, test loss: 0.40244201, test acc: 0.9015\n",
      "Epochs 2/30, train loss: 0.60009402, train acc: 0.8482, test loss: 0.71256471, test acc: 0.8231\n",
      "Epochs 3/30, train loss: 0.58287108, train acc: 0.8504, test loss: 0.50030196, test acc: 0.8680\n",
      "Epochs 4/30, train loss: 0.60741574, train acc: 0.8462, test loss: 0.65604943, test acc: 0.8274\n",
      "Epochs 5/30, train loss: 0.59940559, train acc: 0.8460, test loss: 0.41795826, test acc: 0.8848\n",
      "Epochs 6/30, train loss: 0.60926235, train acc: 0.8425, test loss: 0.42278928, test acc: 0.8789\n",
      "Epochs 7/30, train loss: 0.59768355, train acc: 0.8455, test loss: 0.53919959, test acc: 0.8566\n",
      "Epochs 8/30, train loss: 0.59841073, train acc: 0.8447, test loss: 0.49133730, test acc: 0.8780\n",
      "Epochs 9/30, train loss: 0.61397350, train acc: 0.8388, test loss: 0.51585406, test acc: 0.8688\n",
      "Epochs 10/30, train loss: 0.59426260, train acc: 0.8470, test loss: 0.90446186, test acc: 0.7763\n",
      "Epochs 11/30, train loss: 0.59240282, train acc: 0.8467, test loss: 0.43203658, test acc: 0.8908\n",
      "Epochs 12/30, train loss: 0.61751020, train acc: 0.8414, test loss: 0.52691603, test acc: 0.8656\n",
      "Epochs 13/30, train loss: 0.57294518, train acc: 0.8498, test loss: 0.55337638, test acc: 0.8633\n",
      "Epochs 14/30, train loss: 0.59210312, train acc: 0.8466, test loss: 0.36284512, test acc: 0.9079\n",
      "Epochs 15/30, train loss: 0.56731272, train acc: 0.8512, test loss: 0.56393141, test acc: 0.8608\n",
      "Epochs 16/30, train loss: 0.60103971, train acc: 0.8432, test loss: 0.43500265, test acc: 0.8878\n",
      "Epochs 17/30, train loss: 0.54393768, train acc: 0.8569, test loss: 0.46914697, test acc: 0.8749\n",
      "Epochs 18/30, train loss: 0.55454379, train acc: 0.8545, test loss: 0.69358671, test acc: 0.8198\n",
      "Epochs 19/30, train loss: 0.51900673, train acc: 0.8622, test loss: 0.55438334, test acc: 0.8639\n",
      "Epochs 20/30, train loss: 0.52722615, train acc: 0.8599, test loss: 0.57122791, test acc: 0.8620\n",
      "Epochs 21/30, train loss: 0.56119406, train acc: 0.8508, test loss: 0.75256288, test acc: 0.8174\n",
      "Epochs 22/30, train loss: 0.56466985, train acc: 0.8518, test loss: 0.41796577, test acc: 0.8807\n",
      "Epochs 23/30, train loss: 0.52661544, train acc: 0.8586, test loss: 0.54047984, test acc: 0.8634\n",
      "Epochs 24/30, train loss: 0.55210513, train acc: 0.8536, test loss: 0.57658631, test acc: 0.8508\n",
      "Epochs 25/30, train loss: 0.53700191, train acc: 0.8599, test loss: 0.70596272, test acc: 0.8244\n",
      "Epochs 26/30, train loss: 0.54569030, train acc: 0.8558, test loss: 0.59032732, test acc: 0.8510\n",
      "Epochs 27/30, train loss: 0.59905422, train acc: 0.8449, test loss: 0.61632752, test acc: 0.8603\n",
      "Epochs 28/30, train loss: 0.51320601, train acc: 0.8629, test loss: 0.64493424, test acc: 0.8323\n",
      "Epochs 29/30, train loss: 0.58667153, train acc: 0.8466, test loss: 0.74708039, test acc: 0.8282\n",
      "Epochs 30/30, train loss: 0.49974096, train acc: 0.8644, test loss: 0.58574635, test acc: 0.8528\n"
     ]
    }
   ],
   "source": [
    "train_loss_list, test_loss_list = train()"
   ]
  },
  {
   "cell_type": "code",
   "execution_count": 16,
   "metadata": {},
   "outputs": [
    {
     "data": {
      "image/png": "[encoded data removed]",
      "text/plain": [
       "<Figure size 864x288 with 1 Axes>"
      ]
     },
     "metadata": {
      "needs_background": "light"
     },
     "output_type": "display_data"
    }
   ],
   "source": [
    "plt.figure(figsize=(12, 4))\n",
    "plt.plot(train_loss_list, c=\"blue\", label=\"train loss\")\n",
    "plt.plot(test_loss_list, c=\"orange\", label=\"test loss\")\n",
    "plt.xlabel(\"epochs\")\n",
    "plt.ylabel(\"loss\")\n",
    "plt.title(\"Loss through epochs\")\n",
    "plt.legend()\n",
    "plt.show()"
   ]
  },
  {
   "cell_type": "code",
   "execution_count": 17,
   "metadata": {},
   "outputs": [],
   "source": [
    "def test():\n",
    "\n",
    "    train_loss_list = []\n",
    "    test_loss_list = []\n",
    "    \n",
    "    for x_batch, y_batch, adv_batch in iter(test_dloader):\n",
    "        test_step(x_batch, y_batch, adv_batch, include_clean=False)\n",
    "\n",
    "    test_loss = test_losses.result()\n",
    "    test_acc = test_metrics.result()\n",
    "\n",
    "    test_loss_list.append(test_loss)\n",
    "\n",
    "    test_losses.reset_states()\n",
    "    test_metrics.reset_states()\n",
    "\n",
    "    print(f\"test loss: {test_loss:.8f}, test acc: {test_acc:.4f}\")\n"
   ]
  },
  {
   "cell_type": "code",
   "execution_count": 21,
   "metadata": {},
   "outputs": [
    {
     "name": "stdout",
     "output_type": "stream",
     "text": [
      "test loss: 0.86660397, test acc: 0.7949\n"
     ]
    }
   ],
   "source": [
    "target_model.load_custom_weights(\"model/ensemble_denoising_distinction-2020-06-05_08-03-08.pkl\")\n",
    "test()"
   ]
  },
  {
   "cell_type": "code",
   "execution_count": 20,
   "metadata": {},
   "outputs": [
    {
     "name": "stdout",
     "output_type": "stream",
     "text": [
      "test loss: 0.83649027, test acc: 0.7988\n"
     ]
    }
   ],
   "source": [
    "target_model.load_custom_weights(\"model/ensemble_denoising_distinction-2020-06-04_18-15-44.pkl\")\n",
    "test()"
   ]
  },
  {
   "cell_type": "code",
   "execution_count": 22,
   "metadata": {},
   "outputs": [
    {
     "name": "stdout",
     "output_type": "stream",
     "text": [
      "test loss: 0.80475324, test acc: 0.8066\n"
     ]
    }
   ],
   "source": [
    "target_model.load_custom_weights(\"model/ensemble_denoising_distinction-2020-06-01_16-22-33.pkl\")\n",
    "test()"
   ]
  },
  {
   "cell_type": "code",
   "execution_count": null,
   "metadata": {},
   "outputs": [],
   "source": []
  }
 ],
 "metadata": {
  "kernelspec": {
   "display_name": "Python3 (Tensorflow 2)",
   "language": "python",
   "name": "tf2"
  },
  "language_info": {
   "codemirror_mode": {
    "name": "ipython",
    "version": 3
   },
   "file_extension": ".py",
   "mimetype": "text/x-python",
   "name": "python",
   "nbconvert_exporter": "python",
   "pygments_lexer": "ipython3",
   "version": "3.7.6"
  }
 },
 "nbformat": 4,
 "nbformat_minor": 4
}
