{
 "cells": [
  {
   "cell_type": "markdown",
   "metadata": {},
   "source": [
    "## 문제정의\n",
    "* Given\n",
    "  * 사전 학습 된 DNN 모델이 주어짐\n",
    "  * 모델 구조는 아래 코드 참고\n",
    "  * 사전 학습에 사용한 학습 데이터가 주어짐\n",
    "  * 테스트 데이터가 주어짐\n",
    "  * 사전 학습 한 모델 가중치와 데이터셋은 [링크](https://1drv.ms/u/s!AuS4E8bOdN2Blpd1jw9ilzNhT0dI3Q?e=yKGlel)에서 다운로드 (기한 2020년 6월 20일)\n",
    "* Goal\n",
    "  * Adversarial attack 에 강건한 모델 만들기\n",
    "\n"
   ]
  },
  {
   "cell_type": "code",
   "execution_count": null,
   "metadata": {},
   "outputs": [],
   "source": [
    "import os\n",
    "import numpy as np\n",
    "import pickle\n",
    "import tensorflow as tf\n",
    "from tensorflow.keras import models, layers"
   ]
  },
  {
   "cell_type": "code",
   "execution_count": null,
   "metadata": {},
   "outputs": [],
   "source": [
    "print('tf',tf.__version__)"
   ]
  },
  {
   "cell_type": "markdown",
   "metadata": {},
   "source": [
    "## 데이터 불러오기\n",
    "* 데이터는 앞서 다운로드 링크 제공"
   ]
  },
  {
   "cell_type": "code",
   "execution_count": null,
   "metadata": {},
   "outputs": [],
   "source": [
    "X_test = np.load('../data/X_test.npy')\n",
    "y_test = np.load('../data/y_test.npy')\n",
    "\n",
    "print(X_test.shape, y_test.shape)"
   ]
  },
  {
   "cell_type": "markdown",
   "metadata": {},
   "source": [
    "## 사전학습 된 모델 불러오기\n",
    "* 모델 구조는 아래 Model 클래스와 같음\n",
    "* 사전학습 된 가중치는 앞서 다운로드 링크 제공\n",
    "* 모델 학습에 관한 상세한 과정은 <span style=\"color:red;background-color:pink\">1. how to pretrain the model.ipynb</span> 파일을 참고 바랍니다."
   ]
  },
  {
   "cell_type": "code",
   "execution_count": null,
   "metadata": {},
   "outputs": [],
   "source": [
    "class Model(models.Model):\n",
    "    def __init__(self,base_model):\n",
    "        super(Model,self).__init__()\n",
    "        self.base_model = base_model\n",
    "        self.top_layer = models.Sequential([\n",
    "            layers.Dense(10),\n",
    "            layers.Activation(tf.nn.softmax),\n",
    "        ])\n",
    "        \n",
    "    def call(self,inputs,training=False):\n",
    "        x = self.base_model(inputs, training=training)\n",
    "        x = layers.Flatten()(x)\n",
    "        outputs = self.top_layer(x, training=training)\n",
    "        return outputs"
   ]
  },
  {
   "cell_type": "code",
   "execution_count": null,
   "metadata": {},
   "outputs": [],
   "source": [
    "# weight loading\n",
    "with open('../model/model_20200507_9_1.00_0.0088','rb') as w:\n",
    "    weights = pickle.load(w)\n",
    "\n",
    "base_model = tf.keras.applications.MobileNetV2(input_shape=[160, 160, 3], include_top=False,weights='imagenet')\n",
    "\n",
    "# white-box model\n",
    "model = Model(base_model)\n",
    "model.build((None,160,160,3))\n",
    "model.set_weights(weights)"
   ]
  },
  {
   "cell_type": "code",
   "execution_count": null,
   "metadata": {},
   "outputs": [],
   "source": []
  }
 ],
 "metadata": {
  "kernelspec": {
   "display_name": "Python 3",
   "language": "python",
   "name": "python3"
  },
  "language_info": {
   "codemirror_mode": {
    "name": "ipython",
    "version": 3
   },
   "file_extension": ".py",
   "mimetype": "text/x-python",
   "name": "python",
   "nbconvert_exporter": "python",
   "pygments_lexer": "ipython3",
   "version": "3.7.6"
  }
 },
 "nbformat": 4,
 "nbformat_minor": 4
}
