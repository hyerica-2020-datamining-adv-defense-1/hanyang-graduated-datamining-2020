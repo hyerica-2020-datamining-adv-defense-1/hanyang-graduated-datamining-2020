{
 "cells": [
  {
   "cell_type": "code",
   "execution_count": 1,
   "metadata": {},
   "outputs": [],
   "source": [
    "GPUS = [0]\n",
    "\n",
    "import os\n",
    "os.environ[\"CUDA_VISIBLE_DEVICES\"] = \",\".join(map(str, GPUS))"
   ]
  },
  {
   "cell_type": "code",
   "execution_count": 2,
   "metadata": {},
   "outputs": [],
   "source": [
    "from datetime import datetime"
   ]
  },
  {
   "cell_type": "code",
   "execution_count": 3,
   "metadata": {},
   "outputs": [],
   "source": [
    "import numpy as np\n",
    "import matplotlib.pyplot as plt\n",
    "import tensorflow as tf\n",
    "from tensorflow.keras import optimizers, metrics, losses"
   ]
  },
  {
   "cell_type": "code",
   "execution_count": 4,
   "metadata": {},
   "outputs": [],
   "source": [
    "from adversarial.attacks import random_attack\n",
    "from adversarial.utils import dataloader\n",
    "from adversarial.defences import EnsembleModel, FeatureDistinctionBlock\n",
    "from adversarial import models"
   ]
  },
  {
   "cell_type": "code",
   "execution_count": 5,
   "metadata": {},
   "outputs": [],
   "source": [
    "BATCH_SIZE = 32\n",
    "EPSILONS = np.arange(0.01, 0.5, step=0.02)\n",
    "ETA = 1e-7\n",
    "EPOCHS = 30"
   ]
  },
  {
   "cell_type": "code",
   "execution_count": 6,
   "metadata": {},
   "outputs": [],
   "source": [
    "train_dloader = dataloader.DataLoader(\"data\", BATCH_SIZE, training=True)\n",
    "test_dloader = dataloader.DataLoader(\"data\", BATCH_SIZE, training=False)"
   ]
  },
  {
   "cell_type": "code",
   "execution_count": 7,
   "metadata": {},
   "outputs": [],
   "source": [
    "# strategy = tf.distribute.MirroredStrategy(devices=list([f\"/device:gpu:{i}\" for i in [1, 2]]))"
   ]
  },
  {
   "cell_type": "code",
   "execution_count": 8,
   "metadata": {},
   "outputs": [],
   "source": [
    "target_model = models.TargetModelV3()\n",
    "target_model(tf.random.normal((10, 160, 160, 3)), tf.random.normal((10,)))\n",
    "# target_model.load_custom_weights_for_mobilenet(\"model/model_20200507_9_1.00_0.0088\")\n",
    "target_model.load_custom_weights(\"model/ensemble_distinction-2020-06-03_03-36-23.pkl\")"
   ]
  },
  {
   "cell_type": "code",
   "execution_count": 9,
   "metadata": {},
   "outputs": [],
   "source": [
    "ensemble_model = EnsembleModel([\n",
    "    models.MobileNetV2,\n",
    "    models.MobileNet,\n",
    "    models.VGG16,\n",
    "    models.VGG19,\n",
    "    models.ResNet50,\n",
    "    models.ResNet50V2\n",
    "])"
   ]
  },
  {
   "cell_type": "code",
   "execution_count": 10,
   "metadata": {},
   "outputs": [],
   "source": [
    "criterion = losses.SparseCategoricalCrossentropy()\n",
    "optimizer = optimizers.Adam(learning_rate=ETA)\n",
    "\n",
    "train_losses = metrics.SparseCategoricalCrossentropy()\n",
    "train_metrics = metrics.SparseCategoricalAccuracy()\n",
    "\n",
    "test_losses = metrics.SparseCategoricalCrossentropy()\n",
    "test_metrics = metrics.SparseCategoricalAccuracy()"
   ]
  },
  {
   "cell_type": "code",
   "execution_count": 11,
   "metadata": {},
   "outputs": [],
   "source": [
    "def train_step(images, labels, adv_labels):\n",
    "    adv, _, success = random_attack(ensemble_model, images, adv_labels, EPSILONS)\n",
    "\n",
    "    n = tf.shape(adv)[0]\n",
    "    slicing = tf.concat([tf.ones((n,), dtype=tf.int32), tf.cast(success, tf.int32)], axis=0)\n",
    "    \n",
    "    images = dataloader.add_noise(images)\n",
    "\n",
    "    x_batch, y_batch = dataloader.concat_data(images, labels, adv)\n",
    "    x_batch = x_batch[slicing == 1]\n",
    "    y_batch = y_batch[slicing == 1]\n",
    "\n",
    "    # for i in range(tf.shape(x_batch)[0]):\n",
    "    #     print(y_batch[i].numpy())\n",
    "    #     plt.imshow(x_batch.numpy()[i])\n",
    "    #     plt.show()\n",
    "\n",
    "    with tf.GradientTape() as tape:\n",
    "        outputs, Lpc = target_model(x_batch, y_batch, training=True)\n",
    "        loss = criterion(y_batch, outputs) + 0.2*tf.reduce_mean(Lpc)\n",
    "\n",
    "    # print(loss.numpy())\n",
    "\n",
    "    train_losses.update_state(y_batch, outputs)\n",
    "    train_metrics.update_state(y_batch, outputs)\n",
    "\n",
    "    grads = tape.gradient(loss, target_model.trainable_variables)\n",
    "    optimizer.apply_gradients(zip(grads, target_model.trainable_variables))\n",
    "\n",
    "    # return y_batch, outputs"
   ]
  },
  {
   "cell_type": "code",
   "execution_count": 12,
   "metadata": {},
   "outputs": [],
   "source": [
    "def test_step(images, labels, adv_labels, include_clean=True):\n",
    "    adv, _, success = random_attack(ensemble_model, images, adv_labels, EPSILONS)\n",
    "\n",
    "    if include_clean is True:\n",
    "        n = tf.shape(adv)[0]\n",
    "        slicing = tf.concat([tf.ones((n,), dtype=tf.int32), tf.cast(success, tf.int32)], axis=0)\n",
    "\n",
    "        x_batch, y_batch = dataloader.concat_data(images, labels, adv)\n",
    "        x_batch = x_batch[slicing == 1]\n",
    "        y_batch = y_batch[slicing == 1]\n",
    "    else:\n",
    "        x_batch = adv\n",
    "        y_batch = labels\n",
    "\n",
    "    outputs, _ = target_model(x_batch, y_batch, training=False)\n",
    "\n",
    "    test_losses.update_state(y_batch, outputs)\n",
    "    test_metrics.update_state(y_batch, outputs)\n",
    "\n",
    "    # return y_batch, outputs"
   ]
  },
  {
   "cell_type": "code",
   "execution_count": 13,
   "metadata": {},
   "outputs": [],
   "source": [
    "# with strategy.scope():\n",
    "#     def distribute_train_step(x_batch, y_batch, adv_batch):\n",
    "#         y_batch_replica, outputs_replica = strategy.experimental_run_v2(train_step, args=(x_batch, y_batch, adv_batch))\n",
    "\n",
    "#         y_batch = strategy.reduce(tf.distribute.ReduceOp.SUM, y_batch_replica, axis=0)\n",
    "#         outputs = strategy.reduce(tf.distribute.ReduceOp.SUM, outputs_replica, axis=0)\n",
    "\n",
    "#         train_losses.update_state(y_batch, outputs)\n",
    "#         train_metrics.update_state(y_batch, outputs)\n",
    "\n",
    "#     def distribute_test_step(x_batch, y_batch, adv_batch):\n",
    "#         y_batch_replica, outputs_replica = strategy.experimental_run_v2(test_step, args=(x_batch, y_batch, adv_batch))\n",
    "\n",
    "#         y_batch = strategy.reduce(tf.distribute.ReduceOp.SUM, y_batch_replica, axis=0)\n",
    "#         outputs = strategy.reduce(tf.distribute.ReduceOp.SUM, outputs_replica, axis=0)\n",
    "\n",
    "#         test_losses.update_state(y_batch, outputs)\n",
    "#         test_metrics.update_state(y_batch, outputs)"
   ]
  },
  {
   "cell_type": "code",
   "execution_count": 14,
   "metadata": {},
   "outputs": [],
   "source": [
    "def train():\n",
    "\n",
    "    train_loss_list = []\n",
    "    test_loss_list = []\n",
    "    \n",
    "    best_test_loss = 0.5\n",
    "\n",
    "    for e in range(EPOCHS):\n",
    "        for x_batch, y_batch, adv_batch in iter(train_dloader):\n",
    "            train_step(x_batch, y_batch, adv_batch)\n",
    "\n",
    "        for x_batch, y_batch, adv_batch in iter(test_dloader):\n",
    "            test_step(x_batch, y_batch, adv_batch)\n",
    "\n",
    "        train_loss = train_losses.result()\n",
    "        train_acc = train_metrics.result()\n",
    "\n",
    "        test_loss = test_losses.result()\n",
    "        test_acc = test_metrics.result()\n",
    "\n",
    "        train_loss_list.append(train_loss)\n",
    "        test_loss_list.append(test_loss)\n",
    "\n",
    "        train_losses.reset_states()\n",
    "        train_metrics.reset_states()\n",
    "        test_losses.reset_states()\n",
    "        test_metrics.reset_states()\n",
    "\n",
    "        print(f\"Epochs {e+1}/{EPOCHS}, train loss: {train_loss:.8f}, train acc: {train_acc:.4f}, test loss: {test_loss:.8f}, test acc: {test_acc:.4f}\")\n",
    "        \n",
    "        if best_test_loss >= test_loss:\n",
    "            best_test_loss = test_loss\n",
    "            now = datetime.now().strftime(\"%Y-%m-%d_%H-%M-%S\")\n",
    "            \n",
    "            target_model.save_custom_weights(f\"model/ensemble_distinction-{now}.pkl\")\n",
    "        \n",
    "    return train_loss_list, test_loss_list\n"
   ]
  },
  {
   "cell_type": "code",
   "execution_count": 15,
   "metadata": {},
   "outputs": [
    {
     "name": "stdout",
     "output_type": "stream",
     "text": [
      "WARNING:tensorflow:From /home/jylee/miniconda3/envs/tf2/lib/python3.7/site-packages/foolbox/models/tensorflow.py:13: is_gpu_available (from tensorflow.python.framework.test_util) is deprecated and will be removed in a future version.\n",
      "Instructions for updating:\n",
      "Use `tf.config.list_physical_devices('GPU')` instead.\n",
      "Epochs 1/30, train loss: 0.41337216, train acc: 0.8935, test loss: 0.58521342, test acc: 0.8444\n",
      "Epochs 2/30, train loss: 0.46543846, train acc: 0.8844, test loss: 0.50261176, test acc: 0.8713\n",
      "Epochs 3/30, train loss: 0.42177358, train acc: 0.8914, test loss: 0.46348417, test acc: 0.8881\n",
      "Epochs 4/30, train loss: 0.41990760, train acc: 0.8895, test loss: 0.50107080, test acc: 0.8724\n",
      "Epochs 5/30, train loss: 0.44158420, train acc: 0.8869, test loss: 0.44350675, test acc: 0.8926\n",
      "Epochs 6/30, train loss: 0.42339715, train acc: 0.8910, test loss: 0.37677941, test acc: 0.9115\n",
      "Epochs 7/30, train loss: 0.41734198, train acc: 0.8917, test loss: 0.40213656, test acc: 0.9134\n",
      "Epochs 8/30, train loss: 0.38086399, train acc: 0.8996, test loss: 0.57240552, test acc: 0.8671\n",
      "Epochs 9/30, train loss: 0.42422915, train acc: 0.8900, test loss: 0.41142178, test acc: 0.9095\n",
      "Epochs 10/30, train loss: 0.39598176, train acc: 0.8956, test loss: 0.48797563, test acc: 0.8802\n",
      "Epochs 11/30, train loss: 0.42378944, train acc: 0.8932, test loss: 0.38555163, test acc: 0.9033\n",
      "Epochs 12/30, train loss: 0.39649925, train acc: 0.8967, test loss: 0.58829314, test acc: 0.8394\n",
      "Epochs 13/30, train loss: 0.41266614, train acc: 0.8934, test loss: 0.37049502, test acc: 0.9037\n",
      "Epochs 14/30, train loss: 0.38014585, train acc: 0.9015, test loss: 0.52218574, test acc: 0.8754\n",
      "Epochs 15/30, train loss: 0.36368501, train acc: 0.9030, test loss: 0.39194399, test acc: 0.9085\n",
      "Epochs 16/30, train loss: 0.39872023, train acc: 0.8963, test loss: 0.48968321, test acc: 0.8770\n",
      "Epochs 17/30, train loss: 0.37966573, train acc: 0.8998, test loss: 0.57299620, test acc: 0.8657\n",
      "Epochs 18/30, train loss: 0.38792801, train acc: 0.8967, test loss: 0.35290137, test acc: 0.9085\n",
      "Epochs 19/30, train loss: 0.39356202, train acc: 0.8951, test loss: 0.50654680, test acc: 0.8697\n",
      "Epochs 20/30, train loss: 0.39328176, train acc: 0.8945, test loss: 0.43743092, test acc: 0.8879\n",
      "Epochs 21/30, train loss: 0.40135172, train acc: 0.8960, test loss: 0.38944447, test acc: 0.8974\n",
      "Epochs 22/30, train loss: 0.39845330, train acc: 0.8950, test loss: 0.24581635, test acc: 0.9421\n",
      "Epochs 23/30, train loss: 0.37424347, train acc: 0.9004, test loss: 0.54542249, test acc: 0.8659\n",
      "Epochs 24/30, train loss: 0.37388480, train acc: 0.8980, test loss: 0.56987971, test acc: 0.8640\n",
      "Epochs 25/30, train loss: 0.38342610, train acc: 0.8976, test loss: 0.53333646, test acc: 0.8620\n",
      "Epochs 26/30, train loss: 0.37222457, train acc: 0.8997, test loss: 0.48957166, test acc: 0.8722\n",
      "Epochs 27/30, train loss: 0.38326409, train acc: 0.8974, test loss: 0.43813306, test acc: 0.8813\n",
      "Epochs 28/30, train loss: 0.33242771, train acc: 0.9093, test loss: 0.32638970, test acc: 0.9159\n",
      "Epochs 29/30, train loss: 0.35310343, train acc: 0.9045, test loss: 0.54685134, test acc: 0.8633\n",
      "Epochs 30/30, train loss: 0.39509773, train acc: 0.8972, test loss: 0.40271610, test acc: 0.8954\n"
     ]
    }
   ],
   "source": [
    "train_loss_list, test_loss_list = train()"
   ]
  },
  {
   "cell_type": "code",
   "execution_count": 16,
   "metadata": {},
   "outputs": [
    {
     "data": {
      "image/png": "[encoded data removed]",
      "text/plain": [
       "<Figure size 864x288 with 1 Axes>"
      ]
     },
     "metadata": {
      "needs_background": "light"
     },
     "output_type": "display_data"
    }
   ],
   "source": [
    "plt.figure(figsize=(12, 4))\n",
    "plt.plot(train_loss_list, c=\"blue\", label=\"train loss\")\n",
    "plt.plot(test_loss_list, c=\"orange\", label=\"test loss\")\n",
    "plt.xlabel(\"epochs\")\n",
    "plt.ylabel(\"loss\")\n",
    "plt.title(\"Loss through epochs\")\n",
    "plt.legend()\n",
    "plt.show()"
   ]
  },
  {
   "cell_type": "code",
   "execution_count": 17,
   "metadata": {},
   "outputs": [],
   "source": [
    "def test():\n",
    "\n",
    "    train_loss_list = []\n",
    "    test_loss_list = []\n",
    "    \n",
    "    for x_batch, y_batch, adv_batch in iter(test_dloader):\n",
    "        test_step(x_batch, y_batch, adv_batch, include_clean=False)\n",
    "\n",
    "    test_loss = test_losses.result()\n",
    "    test_acc = test_metrics.result()\n",
    "\n",
    "    test_loss_list.append(test_loss)\n",
    "\n",
    "    test_losses.reset_states()\n",
    "    test_metrics.reset_states()\n",
    "\n",
    "    print(f\"test loss: {test_loss:.8f}, test acc: {test_acc:.4f}\")\n"
   ]
  },
  {
   "cell_type": "code",
   "execution_count": 21,
   "metadata": {},
   "outputs": [
    {
     "name": "stdout",
     "output_type": "stream",
     "text": [
      "test loss: 0.53789139, test acc: 0.8652\n"
     ]
    }
   ],
   "source": [
    "target_model.load_custom_weights(\"model/ensemble_distinction-2020-06-05_14-28-15.pkl\")\n",
    "test()"
   ]
  },
  {
   "cell_type": "code",
   "execution_count": 24,
   "metadata": {},
   "outputs": [
    {
     "name": "stdout",
     "output_type": "stream",
     "text": [
      "test loss: 1.20872033, test acc: 0.6973\n"
     ]
    }
   ],
   "source": [
    "target_model.load_custom_weights(\"model/ensemble_distinction-2020-06-05_10-45-14.pkl\")\n",
    "test()"
   ]
  },
  {
   "cell_type": "code",
   "execution_count": 23,
   "metadata": {},
   "outputs": [
    {
     "name": "stdout",
     "output_type": "stream",
     "text": [
      "test loss: 0.67640269, test acc: 0.8438\n"
     ]
    }
   ],
   "source": [
    "target_model.load_custom_weights(\"model/ensemble_distinction-2020-06-05_05-48-20.pkl\")\n",
    "test()"
   ]
  },
  {
   "cell_type": "code",
   "execution_count": null,
   "metadata": {},
   "outputs": [],
   "source": []
  }
 ],
 "metadata": {
  "kernelspec": {
   "display_name": "Python3 (Tensorflow 2)",
   "language": "python",
   "name": "tf2"
  },
  "language_info": {
   "codemirror_mode": {
    "name": "ipython",
    "version": 3
   },
   "file_extension": ".py",
   "mimetype": "text/x-python",
   "name": "python",
   "nbconvert_exporter": "python",
   "pygments_lexer": "ipython3",
   "version": "3.7.6"
  }
 },
 "nbformat": 4,
 "nbformat_minor": 4
}
