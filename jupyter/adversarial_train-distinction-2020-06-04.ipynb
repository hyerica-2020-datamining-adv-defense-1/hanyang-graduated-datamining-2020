{
 "cells": [
  {
   "cell_type": "code",
   "execution_count": 1,
   "metadata": {},
   "outputs": [],
   "source": [
    "GPUS = [0]\n",
    "\n",
    "import os\n",
    "os.environ[\"CUDA_VISIBLE_DEVICES\"] = \",\".join(map(str, GPUS))"
   ]
  },
  {
   "cell_type": "code",
   "execution_count": 2,
   "metadata": {},
   "outputs": [],
   "source": [
    "from datetime import datetime"
   ]
  },
  {
   "cell_type": "code",
   "execution_count": 3,
   "metadata": {},
   "outputs": [],
   "source": [
    "import numpy as np\n",
    "import matplotlib.pyplot as plt\n",
    "import tensorflow as tf\n",
    "from tensorflow.keras import optimizers, metrics, losses"
   ]
  },
  {
   "cell_type": "code",
   "execution_count": 4,
   "metadata": {},
   "outputs": [],
   "source": [
    "from adversarial.attacks import random_attack\n",
    "from adversarial.utils import dataloader\n",
    "from adversarial.defences import EnsembleModel, FeatureDistinctionBlock\n",
    "from adversarial import models"
   ]
  },
  {
   "cell_type": "code",
   "execution_count": 5,
   "metadata": {},
   "outputs": [],
   "source": [
    "BATCH_SIZE = 32\n",
    "EPSILONS = np.arange(0.01, 0.5, step=0.02)\n",
    "ETA = 1e-7\n",
    "EPOCHS = 30"
   ]
  },
  {
   "cell_type": "code",
   "execution_count": 6,
   "metadata": {},
   "outputs": [],
   "source": [
    "train_dloader = dataloader.DataLoader(\"data\", BATCH_SIZE, training=True)\n",
    "test_dloader = dataloader.DataLoader(\"data\", BATCH_SIZE, training=False)"
   ]
  },
  {
   "cell_type": "code",
   "execution_count": 7,
   "metadata": {},
   "outputs": [],
   "source": [
    "# strategy = tf.distribute.MirroredStrategy(devices=list([f\"/device:gpu:{i}\" for i in [1, 2]]))"
   ]
  },
  {
   "cell_type": "code",
   "execution_count": 8,
   "metadata": {},
   "outputs": [],
   "source": [
    "target_model = models.TargetModelV3()\n",
    "target_model(tf.random.normal((10, 160, 160, 3)), tf.random.normal((10,)))\n",
    "target_model.load_custom_weights_for_mobilenet(\"model/model_20200507_9_1.00_0.0088\")"
   ]
  },
  {
   "cell_type": "code",
   "execution_count": 9,
   "metadata": {},
   "outputs": [],
   "source": [
    "ensemble_model = EnsembleModel([\n",
    "    models.MobileNetV2,\n",
    "    models.MobileNet,\n",
    "    models.VGG16,\n",
    "    models.VGG19,\n",
    "    models.ResNet50,\n",
    "    models.ResNet50V2\n",
    "])"
   ]
  },
  {
   "cell_type": "code",
   "execution_count": 10,
   "metadata": {},
   "outputs": [],
   "source": [
    "criterion = losses.SparseCategoricalCrossentropy()\n",
    "optimizer = optimizers.Adam(learning_rate=ETA)\n",
    "\n",
    "train_losses = metrics.SparseCategoricalCrossentropy()\n",
    "train_metrics = metrics.SparseCategoricalAccuracy()\n",
    "\n",
    "test_losses = metrics.SparseCategoricalCrossentropy()\n",
    "test_metrics = metrics.SparseCategoricalAccuracy()"
   ]
  },
  {
   "cell_type": "code",
   "execution_count": 11,
   "metadata": {},
   "outputs": [],
   "source": [
    "def train_step(images, labels, adv_labels):\n",
    "    adv, _, success = random_attack(ensemble_model, images, adv_labels, EPSILONS)\n",
    "\n",
    "    n = tf.shape(adv)[0]\n",
    "    slicing = tf.concat([tf.ones((n,), dtype=tf.int32), tf.cast(success, tf.int32)], axis=0)\n",
    "    \n",
    "    images = dataloader.add_noise(images)\n",
    "\n",
    "    x_batch, y_batch = dataloader.concat_data(images, labels, adv)\n",
    "    x_batch = x_batch[slicing == 1]\n",
    "    y_batch = y_batch[slicing == 1]\n",
    "\n",
    "    # for i in range(tf.shape(x_batch)[0]):\n",
    "    #     print(y_batch[i].numpy())\n",
    "    #     plt.imshow(x_batch.numpy()[i])\n",
    "    #     plt.show()\n",
    "\n",
    "    with tf.GradientTape() as tape:\n",
    "        outputs, Lpc = target_model(x_batch, y_batch, training=True)\n",
    "        loss = criterion(y_batch, outputs) + 0.2*tf.reduce_mean(Lpc)\n",
    "\n",
    "    # print(loss.numpy())\n",
    "\n",
    "    train_losses.update_state(y_batch, outputs)\n",
    "    train_metrics.update_state(y_batch, outputs)\n",
    "\n",
    "    grads = tape.gradient(loss, target_model.trainable_variables)\n",
    "    optimizer.apply_gradients(zip(grads, target_model.trainable_variables))\n",
    "\n",
    "    # return y_batch, outputs"
   ]
  },
  {
   "cell_type": "code",
   "execution_count": 18,
   "metadata": {},
   "outputs": [],
   "source": [
    "def test_step(images, labels, adv_labels, include_clean=True):\n",
    "    adv, _, success = random_attack(ensemble_model, images, adv_labels, EPSILONS)\n",
    "\n",
    "    if include_clean is True:\n",
    "        n = tf.shape(adv)[0]\n",
    "        slicing = tf.concat([tf.ones((n,), dtype=tf.int32), tf.cast(success, tf.int32)], axis=0)\n",
    "\n",
    "        x_batch, y_batch = dataloader.concat_data(images, labels, adv)\n",
    "        x_batch = x_batch[slicing == 1]\n",
    "        y_batch = y_batch[slicing == 1]\n",
    "    else:\n",
    "        x_batch = adv\n",
    "        y_batch = labels\n",
    "\n",
    "    outputs, _ = target_model(x_batch, y_batch, training=False)\n",
    "\n",
    "    test_losses.update_state(y_batch, outputs)\n",
    "    test_metrics.update_state(y_batch, outputs)\n",
    "\n",
    "    # return y_batch, outputs"
   ]
  },
  {
   "cell_type": "code",
   "execution_count": 13,
   "metadata": {},
   "outputs": [],
   "source": [
    "# with strategy.scope():\n",
    "#     def distribute_train_step(x_batch, y_batch, adv_batch):\n",
    "#         y_batch_replica, outputs_replica = strategy.experimental_run_v2(train_step, args=(x_batch, y_batch, adv_batch))\n",
    "\n",
    "#         y_batch = strategy.reduce(tf.distribute.ReduceOp.SUM, y_batch_replica, axis=0)\n",
    "#         outputs = strategy.reduce(tf.distribute.ReduceOp.SUM, outputs_replica, axis=0)\n",
    "\n",
    "#         train_losses.update_state(y_batch, outputs)\n",
    "#         train_metrics.update_state(y_batch, outputs)\n",
    "\n",
    "#     def distribute_test_step(x_batch, y_batch, adv_batch):\n",
    "#         y_batch_replica, outputs_replica = strategy.experimental_run_v2(test_step, args=(x_batch, y_batch, adv_batch))\n",
    "\n",
    "#         y_batch = strategy.reduce(tf.distribute.ReduceOp.SUM, y_batch_replica, axis=0)\n",
    "#         outputs = strategy.reduce(tf.distribute.ReduceOp.SUM, outputs_replica, axis=0)\n",
    "\n",
    "#         test_losses.update_state(y_batch, outputs)\n",
    "#         test_metrics.update_state(y_batch, outputs)"
   ]
  },
  {
   "cell_type": "code",
   "execution_count": 16,
   "metadata": {},
   "outputs": [],
   "source": [
    "def train():\n",
    "\n",
    "    train_loss_list = []\n",
    "    test_loss_list = []\n",
    "    \n",
    "    best_test_loss = 0.6\n",
    "\n",
    "    for e in range(EPOCHS):\n",
    "        for x_batch, y_batch, adv_batch in iter(train_dloader):\n",
    "            train_step(x_batch, y_batch, adv_batch)\n",
    "\n",
    "        for x_batch, y_batch, adv_batch in iter(test_dloader):\n",
    "            test_step(x_batch, y_batch, adv_batch)\n",
    "\n",
    "        train_loss = train_losses.result()\n",
    "        train_acc = train_metrics.result()\n",
    "\n",
    "        test_loss = test_losses.result()\n",
    "        test_acc = test_metrics.result()\n",
    "\n",
    "        train_loss_list.append(train_loss)\n",
    "        test_loss_list.append(test_loss)\n",
    "\n",
    "        train_losses.reset_states()\n",
    "        train_metrics.reset_states()\n",
    "        test_losses.reset_states()\n",
    "        test_metrics.reset_states()\n",
    "\n",
    "        print(f\"Epochs {e+1}/{EPOCHS}, train loss: {train_loss:.8f}, train acc: {train_acc:.4f}, test loss: {test_loss:.8f}, test acc: {test_acc:.4f}\")\n",
    "        \n",
    "        if best_test_loss >= test_loss:\n",
    "            best_test_loss = test_loss\n",
    "            now = datetime.now().strftime(\"%Y-%m-%d_%H-%M-%S\")\n",
    "            \n",
    "            target_model.save_custom_weights(f\"model/ensemble_distinction-{now}.pkl\")\n",
    "        \n",
    "    return train_loss_list, test_loss_list\n"
   ]
  },
  {
   "cell_type": "code",
   "execution_count": null,
   "metadata": {},
   "outputs": [
    {
     "name": "stdout",
     "output_type": "stream",
     "text": [
      "Epochs 1/30, train loss: 0.58700323, train acc: 0.8647, test loss: 0.50425887, test acc: 0.8831\n",
      "Epochs 2/30, train loss: 0.61261117, train acc: 0.8585, test loss: 0.86258447, test acc: 0.7936\n",
      "Epochs 3/30, train loss: 0.55310023, train acc: 0.8699, test loss: 0.37247410, test acc: 0.9100\n",
      "Epochs 4/30, train loss: 0.54867095, train acc: 0.8681, test loss: 0.59421915, test acc: 0.8501\n",
      "Epochs 5/30, train loss: 0.53213751, train acc: 0.8730, test loss: 0.34977561, test acc: 0.9124\n",
      "Epochs 6/30, train loss: 0.53696507, train acc: 0.8676, test loss: 0.36681733, test acc: 0.9128\n",
      "Epochs 7/30, train loss: 0.46002921, train acc: 0.8872, test loss: 0.52770829, test acc: 0.8712\n",
      "Epochs 8/30, train loss: 0.53279632, train acc: 0.8699, test loss: 0.36537886, test acc: 0.9151\n",
      "Epochs 9/30, train loss: 0.51907182, train acc: 0.8753, test loss: 0.53150249, test acc: 0.8749\n",
      "Epochs 10/30, train loss: 0.48125979, train acc: 0.8801, test loss: 0.43719015, test acc: 0.8988\n",
      "Epochs 11/30, train loss: 0.48232457, train acc: 0.8804, test loss: 0.35953665, test acc: 0.9124\n",
      "Epochs 12/30, train loss: 0.47530377, train acc: 0.8794, test loss: 0.42426822, test acc: 0.9003\n",
      "Epochs 13/30, train loss: 0.45926017, train acc: 0.8834, test loss: 0.46066096, test acc: 0.8825\n",
      "Epochs 14/30, train loss: 0.42339528, train acc: 0.8907, test loss: 0.33343038, test acc: 0.9152\n",
      "Epochs 15/30, train loss: 0.47098473, train acc: 0.8805, test loss: 0.39966056, test acc: 0.8934\n",
      "Epochs 16/30, train loss: 0.45624858, train acc: 0.8846, test loss: 0.27475402, test acc: 0.9350\n",
      "Epochs 17/30, train loss: 0.38825855, train acc: 0.8989, test loss: 0.53682560, test acc: 0.8643\n",
      "Epochs 18/30, train loss: 0.42520961, train acc: 0.8897, test loss: 0.60537732, test acc: 0.8516\n",
      "Epochs 19/30, train loss: 0.42009282, train acc: 0.8908, test loss: 0.39796349, test acc: 0.9036\n",
      "Epochs 20/30, train loss: 0.43500680, train acc: 0.8875, test loss: 0.58913696, test acc: 0.8378\n",
      "Epochs 21/30, train loss: 0.50139832, train acc: 0.8734, test loss: 0.55280411, test acc: 0.8443\n"
     ]
    }
   ],
   "source": [
    "train_loss_list, test_loss_list = train()"
   ]
  },
  {
   "cell_type": "code",
   "execution_count": 20,
   "metadata": {},
   "outputs": [
    {
     "data": {
      "image/png": "[encoded data removed]",
      "text/plain": [
       "<Figure size 864x288 with 1 Axes>"
      ]
     },
     "metadata": {
      "needs_background": "light"
     },
     "output_type": "display_data"
    }
   ],
   "source": [
    "plt.figure(figsize=(12, 4))\n",
    "plt.plot(train_loss_list, c=\"blue\", label=\"train loss\")\n",
    "plt.plot(test_loss_list, c=\"orange\", label=\"test loss\")\n",
    "plt.xlabel(\"epochs\")\n",
    "plt.ylabel(\"loss\")\n",
    "plt.title(\"Loss through epochs\")\n",
    "plt.legend()\n",
    "plt.show()"
   ]
  },
  {
   "cell_type": "code",
   "execution_count": 24,
   "metadata": {},
   "outputs": [],
   "source": [
    "def test():\n",
    "\n",
    "    train_loss_list = []\n",
    "    test_loss_list = []\n",
    "    \n",
    "    for x_batch, y_batch, adv_batch in iter(test_dloader):\n",
    "        test_step(x_batch, y_batch, adv_batch, include_clean=False)\n",
    "\n",
    "    test_loss = test_losses.result()\n",
    "    test_acc = test_metrics.result()\n",
    "\n",
    "    test_loss_list.append(test_loss)\n",
    "\n",
    "    test_losses.reset_states()\n",
    "    test_metrics.reset_states()\n",
    "\n",
    "    print(f\"test loss: {test_loss:.8f}, test acc: {test_acc:.4f}\")\n"
   ]
  },
  {
   "cell_type": "code",
   "execution_count": 25,
   "metadata": {},
   "outputs": [
    {
     "name": "stdout",
     "output_type": "stream",
     "text": [
      "test loss: 0.55265003, test acc: 0.8578\n"
     ]
    }
   ],
   "source": [
    "test()"
   ]
  },
  {
   "cell_type": "code",
   "execution_count": null,
   "metadata": {},
   "outputs": [],
   "source": []
  }
 ],
 "metadata": {
  "kernelspec": {
   "display_name": "Python3 (Tensorflow 2)",
   "language": "python",
   "name": "tf2"
  },
  "language_info": {
   "codemirror_mode": {
    "name": "ipython",
    "version": 3
   },
   "file_extension": ".py",
   "mimetype": "text/x-python",
   "name": "python",
   "nbconvert_exporter": "python",
   "pygments_lexer": "ipython3",
   "version": "3.7.6"
  }
 },
 "nbformat": 4,
 "nbformat_minor": 4
}
